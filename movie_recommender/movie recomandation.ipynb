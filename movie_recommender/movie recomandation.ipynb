{
 "cells": [
  {
   "cell_type": "code",
   "execution_count": null,
   "id": "ad816f52-3d23-45a2-91ba-837f2b2e22c3",
   "metadata": {},
   "outputs": [],
   "source": [
    "import numpy as np\n",
    "import pandas as pd\n",
    "\n",
    "import os\n",
    "for dirname, _, filenames in os.walk('/kaggle/input'):\n",
    "    for filename in filenames:\n",
    "        print(os.path.join(dirname, filename))"
   ]
  },
  {
   "cell_type": "code",
   "execution_count": 39,
   "id": "47b520e5-d136-46ac-b82b-bf73ce81c8af",
   "metadata": {},
   "outputs": [],
   "source": [
    "movies=pd.read_csv(\"10000_Movies_Data\")\n",
    "credits=pd.read_csv(\"10000_Credits_Data\")"
   ]
  },
  {
   "cell_type": "code",
   "execution_count": 40,
   "id": "58478e70-15eb-4260-ba3b-2d158cd17c9c",
   "metadata": {},
   "outputs": [
    {
     "data": {
      "text/html": [
       "<div>\n",
       "<style scoped>\n",
       "    .dataframe tbody tr th:only-of-type {\n",
       "        vertical-align: middle;\n",
       "    }\n",
       "\n",
       "    .dataframe tbody tr th {\n",
       "        vertical-align: top;\n",
       "    }\n",
       "\n",
       "    .dataframe thead th {\n",
       "        text-align: right;\n",
       "    }\n",
       "</style>\n",
       "<table border=\"1\" class=\"dataframe\">\n",
       "  <thead>\n",
       "    <tr style=\"text-align: right;\">\n",
       "      <th></th>\n",
       "      <th>Unnamed: 0</th>\n",
       "      <th>Movie_id</th>\n",
       "      <th>title</th>\n",
       "      <th>Genres</th>\n",
       "      <th>release_date</th>\n",
       "      <th>Keywords</th>\n",
       "      <th>overview</th>\n",
       "      <th>poster_path</th>\n",
       "      <th>Budget</th>\n",
       "      <th>Revenue</th>\n",
       "      <th>popularity</th>\n",
       "      <th>vote_average</th>\n",
       "      <th>vote_count</th>\n",
       "    </tr>\n",
       "  </thead>\n",
       "  <tbody>\n",
       "    <tr>\n",
       "      <th>0</th>\n",
       "      <td>0</td>\n",
       "      <td>238</td>\n",
       "      <td>The Godfather</td>\n",
       "      <td>[{'id': 18, 'name': 'Drama'}, {'id': 80, 'name...</td>\n",
       "      <td>1972-03-14</td>\n",
       "      <td>[{'id': 131, 'name': 'italy'}, {'id': 697, 'na...</td>\n",
       "      <td>Spanning the years 1945 to 1955, a chronicle o...</td>\n",
       "      <td>/3bhkrj58Vtu7enYsRolD1fZdja1.jpg</td>\n",
       "      <td>245066411</td>\n",
       "      <td>245066411</td>\n",
       "      <td>93.552</td>\n",
       "      <td>8.7</td>\n",
       "      <td>16814</td>\n",
       "    </tr>\n",
       "    <tr>\n",
       "      <th>1</th>\n",
       "      <td>1</td>\n",
       "      <td>278</td>\n",
       "      <td>The Shawshank Redemption</td>\n",
       "      <td>[{'id': 18, 'name': 'Drama'}, {'id': 80, 'name...</td>\n",
       "      <td>1994-09-23</td>\n",
       "      <td>[{'id': 378, 'name': 'prison'}, {'id': 417, 'n...</td>\n",
       "      <td>Framed in the 1940s for the double murder of h...</td>\n",
       "      <td>/q6y0Go1tsGEsmtFryDOJo3dEmqu.jpg</td>\n",
       "      <td>28341469</td>\n",
       "      <td>28341469</td>\n",
       "      <td>78.664</td>\n",
       "      <td>8.7</td>\n",
       "      <td>22542</td>\n",
       "    </tr>\n",
       "    <tr>\n",
       "      <th>2</th>\n",
       "      <td>2</td>\n",
       "      <td>240</td>\n",
       "      <td>The Godfather Part II</td>\n",
       "      <td>[{'id': 18, 'name': 'Drama'}, {'id': 80, 'name...</td>\n",
       "      <td>1974-12-20</td>\n",
       "      <td>[{'id': 131, 'name': 'italy'}, {'id': 700, 'na...</td>\n",
       "      <td>In the continuing saga of the Corleone crime f...</td>\n",
       "      <td>/hek3koDUyRQk7FIhPXsa6mT2Zc3.jpg</td>\n",
       "      <td>102600000</td>\n",
       "      <td>102600000</td>\n",
       "      <td>55.752</td>\n",
       "      <td>8.6</td>\n",
       "      <td>10187</td>\n",
       "    </tr>\n",
       "    <tr>\n",
       "      <th>3</th>\n",
       "      <td>3</td>\n",
       "      <td>19404</td>\n",
       "      <td>Dilwale Dulhania Le Jayenge</td>\n",
       "      <td>[{'id': 35, 'name': 'Comedy'}, {'id': 18, 'nam...</td>\n",
       "      <td>1995-10-19</td>\n",
       "      <td>[]</td>\n",
       "      <td>Raj is a rich, carefree, happy-go-lucky second...</td>\n",
       "      <td>/2CAL2433ZeIihfX1Hb2139CX0pW.jpg</td>\n",
       "      <td>100000000</td>\n",
       "      <td>100000000</td>\n",
       "      <td>22.150</td>\n",
       "      <td>8.6</td>\n",
       "      <td>3927</td>\n",
       "    </tr>\n",
       "    <tr>\n",
       "      <th>4</th>\n",
       "      <td>4</td>\n",
       "      <td>424</td>\n",
       "      <td>Schindler's List</td>\n",
       "      <td>[{'id': 18, 'name': 'Drama'}, {'id': 36, 'name...</td>\n",
       "      <td>1993-12-15</td>\n",
       "      <td>[{'id': 818, 'name': 'based on novel or book'}...</td>\n",
       "      <td>The true story of how businessman Oskar Schind...</td>\n",
       "      <td>/sF1U4EUQS8YHUYjNl3pMGNIQyr0.jpg</td>\n",
       "      <td>321365567</td>\n",
       "      <td>321365567</td>\n",
       "      <td>53.542</td>\n",
       "      <td>8.6</td>\n",
       "      <td>13382</td>\n",
       "    </tr>\n",
       "  </tbody>\n",
       "</table>\n",
       "</div>"
      ],
      "text/plain": [
       "   Unnamed: 0  Movie_id                        title  \\\n",
       "0           0       238                The Godfather   \n",
       "1           1       278     The Shawshank Redemption   \n",
       "2           2       240        The Godfather Part II   \n",
       "3           3     19404  Dilwale Dulhania Le Jayenge   \n",
       "4           4       424             Schindler's List   \n",
       "\n",
       "                                              Genres release_date  \\\n",
       "0  [{'id': 18, 'name': 'Drama'}, {'id': 80, 'name...   1972-03-14   \n",
       "1  [{'id': 18, 'name': 'Drama'}, {'id': 80, 'name...   1994-09-23   \n",
       "2  [{'id': 18, 'name': 'Drama'}, {'id': 80, 'name...   1974-12-20   \n",
       "3  [{'id': 35, 'name': 'Comedy'}, {'id': 18, 'nam...   1995-10-19   \n",
       "4  [{'id': 18, 'name': 'Drama'}, {'id': 36, 'name...   1993-12-15   \n",
       "\n",
       "                                            Keywords  \\\n",
       "0  [{'id': 131, 'name': 'italy'}, {'id': 697, 'na...   \n",
       "1  [{'id': 378, 'name': 'prison'}, {'id': 417, 'n...   \n",
       "2  [{'id': 131, 'name': 'italy'}, {'id': 700, 'na...   \n",
       "3                                                 []   \n",
       "4  [{'id': 818, 'name': 'based on novel or book'}...   \n",
       "\n",
       "                                            overview  \\\n",
       "0  Spanning the years 1945 to 1955, a chronicle o...   \n",
       "1  Framed in the 1940s for the double murder of h...   \n",
       "2  In the continuing saga of the Corleone crime f...   \n",
       "3  Raj is a rich, carefree, happy-go-lucky second...   \n",
       "4  The true story of how businessman Oskar Schind...   \n",
       "\n",
       "                        poster_path     Budget    Revenue  popularity  \\\n",
       "0  /3bhkrj58Vtu7enYsRolD1fZdja1.jpg  245066411  245066411      93.552   \n",
       "1  /q6y0Go1tsGEsmtFryDOJo3dEmqu.jpg   28341469   28341469      78.664   \n",
       "2  /hek3koDUyRQk7FIhPXsa6mT2Zc3.jpg  102600000  102600000      55.752   \n",
       "3  /2CAL2433ZeIihfX1Hb2139CX0pW.jpg  100000000  100000000      22.150   \n",
       "4  /sF1U4EUQS8YHUYjNl3pMGNIQyr0.jpg  321365567  321365567      53.542   \n",
       "\n",
       "   vote_average  vote_count  \n",
       "0           8.7       16814  \n",
       "1           8.7       22542  \n",
       "2           8.6       10187  \n",
       "3           8.6        3927  \n",
       "4           8.6       13382  "
      ]
     },
     "execution_count": 40,
     "metadata": {},
     "output_type": "execute_result"
    }
   ],
   "source": [
    "movies.head()"
   ]
  },
  {
   "cell_type": "code",
   "execution_count": 41,
   "id": "b1cdd398-f4a6-46ca-8629-7d1357069699",
   "metadata": {},
   "outputs": [
    {
     "data": {
      "text/html": [
       "<div>\n",
       "<style scoped>\n",
       "    .dataframe tbody tr th:only-of-type {\n",
       "        vertical-align: middle;\n",
       "    }\n",
       "\n",
       "    .dataframe tbody tr th {\n",
       "        vertical-align: top;\n",
       "    }\n",
       "\n",
       "    .dataframe thead th {\n",
       "        text-align: right;\n",
       "    }\n",
       "</style>\n",
       "<table border=\"1\" class=\"dataframe\">\n",
       "  <thead>\n",
       "    <tr style=\"text-align: right;\">\n",
       "      <th></th>\n",
       "      <th>Unnamed: 0</th>\n",
       "      <th>Movie_id</th>\n",
       "      <th>title</th>\n",
       "      <th>Cast</th>\n",
       "      <th>Crew</th>\n",
       "    </tr>\n",
       "  </thead>\n",
       "  <tbody>\n",
       "    <tr>\n",
       "      <th>0</th>\n",
       "      <td>0</td>\n",
       "      <td>238</td>\n",
       "      <td>The Godfather</td>\n",
       "      <td>[{'adult': False, 'gender': 2, 'id': 3084, 'kn...</td>\n",
       "      <td>[{'adult': False, 'gender': 2, 'id': 154, 'kno...</td>\n",
       "    </tr>\n",
       "  </tbody>\n",
       "</table>\n",
       "</div>"
      ],
      "text/plain": [
       "   Unnamed: 0  Movie_id          title  \\\n",
       "0           0       238  The Godfather   \n",
       "\n",
       "                                                Cast  \\\n",
       "0  [{'adult': False, 'gender': 2, 'id': 3084, 'kn...   \n",
       "\n",
       "                                                Crew  \n",
       "0  [{'adult': False, 'gender': 2, 'id': 154, 'kno...  "
      ]
     },
     "execution_count": 41,
     "metadata": {},
     "output_type": "execute_result"
    }
   ],
   "source": [
    "credits.head(1)\n"
   ]
  },
  {
   "cell_type": "code",
   "execution_count": 42,
   "id": "b509f729-a1ff-4dff-9dbc-41ab7170afc1",
   "metadata": {},
   "outputs": [],
   "source": [
    "movies=movies.merge(credits,on='Movie_id')"
   ]
  },
  {
   "cell_type": "code",
   "execution_count": 43,
   "id": "246d1d50-4555-446e-9a3b-c4b5ffc6fb83",
   "metadata": {},
   "outputs": [
    {
     "name": "stdout",
     "output_type": "stream",
     "text": [
      "<class 'pandas.core.frame.DataFrame'>\n",
      "RangeIndex: 9980 entries, 0 to 9979\n",
      "Data columns (total 17 columns):\n",
      " #   Column        Non-Null Count  Dtype  \n",
      "---  ------        --------------  -----  \n",
      " 0   Unnamed: 0_x  9980 non-null   int64  \n",
      " 1   Movie_id      9980 non-null   int64  \n",
      " 2   title_x       9980 non-null   object \n",
      " 3   Genres        9980 non-null   object \n",
      " 4   release_date  9980 non-null   object \n",
      " 5   Keywords      9980 non-null   object \n",
      " 6   overview      9974 non-null   object \n",
      " 7   poster_path   9980 non-null   object \n",
      " 8   Budget        9980 non-null   int64  \n",
      " 9   Revenue       9980 non-null   int64  \n",
      " 10  popularity    9980 non-null   float64\n",
      " 11  vote_average  9980 non-null   float64\n",
      " 12  vote_count    9980 non-null   int64  \n",
      " 13  Unnamed: 0_y  9980 non-null   int64  \n",
      " 14  title_y       9980 non-null   object \n",
      " 15  Cast          9980 non-null   object \n",
      " 16  Crew          9980 non-null   object \n",
      "dtypes: float64(2), int64(6), object(9)\n",
      "memory usage: 1.3+ MB\n"
     ]
    }
   ],
   "source": [
    "movies.info()"
   ]
  },
  {
   "cell_type": "code",
   "execution_count": 44,
   "id": "2ac0d854-d03c-4375-bfe8-bb0a78abdbb9",
   "metadata": {},
   "outputs": [],
   "source": [
    "#movieid\n",
    "#title\n",
    "#genres\n",
    "#keywords\n",
    "#overview\n",
    "# cast\n",
    "#crew\n",
    "movies=movies[['Movie_id','title_x','Genres','Keywords','Cast','Crew','overview']]"
   ]
  },
  {
   "cell_type": "code",
   "execution_count": 45,
   "id": "fb34cbdf-ca90-434f-8e42-986337ea3400",
   "metadata": {},
   "outputs": [
    {
     "data": {
      "text/html": [
       "<div>\n",
       "<style scoped>\n",
       "    .dataframe tbody tr th:only-of-type {\n",
       "        vertical-align: middle;\n",
       "    }\n",
       "\n",
       "    .dataframe tbody tr th {\n",
       "        vertical-align: top;\n",
       "    }\n",
       "\n",
       "    .dataframe thead th {\n",
       "        text-align: right;\n",
       "    }\n",
       "</style>\n",
       "<table border=\"1\" class=\"dataframe\">\n",
       "  <thead>\n",
       "    <tr style=\"text-align: right;\">\n",
       "      <th></th>\n",
       "      <th>Movie_id</th>\n",
       "      <th>title_x</th>\n",
       "      <th>Genres</th>\n",
       "      <th>Keywords</th>\n",
       "      <th>Cast</th>\n",
       "      <th>Crew</th>\n",
       "      <th>overview</th>\n",
       "    </tr>\n",
       "  </thead>\n",
       "  <tbody>\n",
       "    <tr>\n",
       "      <th>0</th>\n",
       "      <td>238</td>\n",
       "      <td>The Godfather</td>\n",
       "      <td>[{'id': 18, 'name': 'Drama'}, {'id': 80, 'name...</td>\n",
       "      <td>[{'id': 131, 'name': 'italy'}, {'id': 697, 'na...</td>\n",
       "      <td>[{'adult': False, 'gender': 2, 'id': 3084, 'kn...</td>\n",
       "      <td>[{'adult': False, 'gender': 2, 'id': 154, 'kno...</td>\n",
       "      <td>Spanning the years 1945 to 1955, a chronicle o...</td>\n",
       "    </tr>\n",
       "    <tr>\n",
       "      <th>1</th>\n",
       "      <td>278</td>\n",
       "      <td>The Shawshank Redemption</td>\n",
       "      <td>[{'id': 18, 'name': 'Drama'}, {'id': 80, 'name...</td>\n",
       "      <td>[{'id': 378, 'name': 'prison'}, {'id': 417, 'n...</td>\n",
       "      <td>[{'adult': False, 'gender': 2, 'id': 504, 'kno...</td>\n",
       "      <td>[{'adult': False, 'gender': 2, 'id': 153, 'kno...</td>\n",
       "      <td>Framed in the 1940s for the double murder of h...</td>\n",
       "    </tr>\n",
       "    <tr>\n",
       "      <th>2</th>\n",
       "      <td>240</td>\n",
       "      <td>The Godfather Part II</td>\n",
       "      <td>[{'id': 18, 'name': 'Drama'}, {'id': 80, 'name...</td>\n",
       "      <td>[{'id': 131, 'name': 'italy'}, {'id': 700, 'na...</td>\n",
       "      <td>[{'adult': False, 'gender': 2, 'id': 1158, 'kn...</td>\n",
       "      <td>[{'adult': False, 'gender': 2, 'id': 154, 'kno...</td>\n",
       "      <td>In the continuing saga of the Corleone crime f...</td>\n",
       "    </tr>\n",
       "    <tr>\n",
       "      <th>3</th>\n",
       "      <td>19404</td>\n",
       "      <td>Dilwale Dulhania Le Jayenge</td>\n",
       "      <td>[{'id': 35, 'name': 'Comedy'}, {'id': 18, 'nam...</td>\n",
       "      <td>[]</td>\n",
       "      <td>[{'adult': False, 'gender': 2, 'id': 35742, 'k...</td>\n",
       "      <td>[{'adult': False, 'gender': 1, 'id': 8311, 'kn...</td>\n",
       "      <td>Raj is a rich, carefree, happy-go-lucky second...</td>\n",
       "    </tr>\n",
       "    <tr>\n",
       "      <th>4</th>\n",
       "      <td>424</td>\n",
       "      <td>Schindler's List</td>\n",
       "      <td>[{'id': 18, 'name': 'Drama'}, {'id': 36, 'name...</td>\n",
       "      <td>[{'id': 818, 'name': 'based on novel or book'}...</td>\n",
       "      <td>[{'adult': False, 'gender': 2, 'id': 3896, 'kn...</td>\n",
       "      <td>[{'adult': False, 'gender': 2, 'id': 491, 'kno...</td>\n",
       "      <td>The true story of how businessman Oskar Schind...</td>\n",
       "    </tr>\n",
       "  </tbody>\n",
       "</table>\n",
       "</div>"
      ],
      "text/plain": [
       "   Movie_id                      title_x  \\\n",
       "0       238                The Godfather   \n",
       "1       278     The Shawshank Redemption   \n",
       "2       240        The Godfather Part II   \n",
       "3     19404  Dilwale Dulhania Le Jayenge   \n",
       "4       424             Schindler's List   \n",
       "\n",
       "                                              Genres  \\\n",
       "0  [{'id': 18, 'name': 'Drama'}, {'id': 80, 'name...   \n",
       "1  [{'id': 18, 'name': 'Drama'}, {'id': 80, 'name...   \n",
       "2  [{'id': 18, 'name': 'Drama'}, {'id': 80, 'name...   \n",
       "3  [{'id': 35, 'name': 'Comedy'}, {'id': 18, 'nam...   \n",
       "4  [{'id': 18, 'name': 'Drama'}, {'id': 36, 'name...   \n",
       "\n",
       "                                            Keywords  \\\n",
       "0  [{'id': 131, 'name': 'italy'}, {'id': 697, 'na...   \n",
       "1  [{'id': 378, 'name': 'prison'}, {'id': 417, 'n...   \n",
       "2  [{'id': 131, 'name': 'italy'}, {'id': 700, 'na...   \n",
       "3                                                 []   \n",
       "4  [{'id': 818, 'name': 'based on novel or book'}...   \n",
       "\n",
       "                                                Cast  \\\n",
       "0  [{'adult': False, 'gender': 2, 'id': 3084, 'kn...   \n",
       "1  [{'adult': False, 'gender': 2, 'id': 504, 'kno...   \n",
       "2  [{'adult': False, 'gender': 2, 'id': 1158, 'kn...   \n",
       "3  [{'adult': False, 'gender': 2, 'id': 35742, 'k...   \n",
       "4  [{'adult': False, 'gender': 2, 'id': 3896, 'kn...   \n",
       "\n",
       "                                                Crew  \\\n",
       "0  [{'adult': False, 'gender': 2, 'id': 154, 'kno...   \n",
       "1  [{'adult': False, 'gender': 2, 'id': 153, 'kno...   \n",
       "2  [{'adult': False, 'gender': 2, 'id': 154, 'kno...   \n",
       "3  [{'adult': False, 'gender': 1, 'id': 8311, 'kn...   \n",
       "4  [{'adult': False, 'gender': 2, 'id': 491, 'kno...   \n",
       "\n",
       "                                            overview  \n",
       "0  Spanning the years 1945 to 1955, a chronicle o...  \n",
       "1  Framed in the 1940s for the double murder of h...  \n",
       "2  In the continuing saga of the Corleone crime f...  \n",
       "3  Raj is a rich, carefree, happy-go-lucky second...  \n",
       "4  The true story of how businessman Oskar Schind...  "
      ]
     },
     "execution_count": 45,
     "metadata": {},
     "output_type": "execute_result"
    }
   ],
   "source": [
    "movies.head()"
   ]
  },
  {
   "cell_type": "code",
   "execution_count": 46,
   "id": "f38ea045-afb6-469e-aabb-2367d066eb7a",
   "metadata": {},
   "outputs": [
    {
     "data": {
      "text/plain": [
       "Movie_id    0\n",
       "title_x     0\n",
       "Genres      0\n",
       "Keywords    0\n",
       "Cast        0\n",
       "Crew        0\n",
       "overview    6\n",
       "dtype: int64"
      ]
     },
     "execution_count": 46,
     "metadata": {},
     "output_type": "execute_result"
    }
   ],
   "source": [
    "movies.isnull().sum()   #checking is any nulls present"
   ]
  },
  {
   "cell_type": "code",
   "execution_count": 47,
   "id": "c75e9407-ad09-4a62-b3b2-b25cc54d3eca",
   "metadata": {},
   "outputs": [
    {
     "data": {
      "text/plain": [
       "0"
      ]
     },
     "execution_count": 47,
     "metadata": {},
     "output_type": "execute_result"
    }
   ],
   "source": [
    "movies.duplicated().sum()   #checkimng any duplication presernt are not"
   ]
  },
  {
   "cell_type": "code",
   "execution_count": 48,
   "id": "2da8624f-79c4-4520-b8bf-333f9fc64825",
   "metadata": {},
   "outputs": [
    {
     "data": {
      "text/plain": [
       "\"[{'id': 18, 'name': 'Drama'}, {'id': 80, 'name': 'Crime'}]\""
      ]
     },
     "execution_count": 48,
     "metadata": {},
     "output_type": "execute_result"
    }
   ],
   "source": [
    "movies.iloc[0].Genres"
   ]
  },
  {
   "cell_type": "code",
   "execution_count": 49,
   "id": "a4a2c263-575a-42ae-af9a-c332b97e82b6",
   "metadata": {},
   "outputs": [],
   "source": [
    "import ast\n",
    "def convert(obj):\n",
    "    \n",
    "    l=[]\n",
    "    for i in ast.literal_eval(obj):   #ast.literal_eval() used to convert them in a list with reference of index acctly the given are in dictorny strings\n",
    "        l.append(i['name'])\n",
    "    return l"
   ]
  },
  {
   "cell_type": "code",
   "execution_count": 50,
   "id": "9a5d9f5c-41d0-4a21-ad5a-f57443cc4167",
   "metadata": {},
   "outputs": [],
   "source": [
    "movies['Genres']=movies['Genres'].apply(convert)"
   ]
  },
  {
   "cell_type": "code",
   "execution_count": 51,
   "id": "c98085a5-7e9e-4510-83e6-6a58b33be402",
   "metadata": {},
   "outputs": [
    {
     "data": {
      "text/html": [
       "<div>\n",
       "<style scoped>\n",
       "    .dataframe tbody tr th:only-of-type {\n",
       "        vertical-align: middle;\n",
       "    }\n",
       "\n",
       "    .dataframe tbody tr th {\n",
       "        vertical-align: top;\n",
       "    }\n",
       "\n",
       "    .dataframe thead th {\n",
       "        text-align: right;\n",
       "    }\n",
       "</style>\n",
       "<table border=\"1\" class=\"dataframe\">\n",
       "  <thead>\n",
       "    <tr style=\"text-align: right;\">\n",
       "      <th></th>\n",
       "      <th>Movie_id</th>\n",
       "      <th>title_x</th>\n",
       "      <th>Genres</th>\n",
       "      <th>Keywords</th>\n",
       "      <th>Cast</th>\n",
       "      <th>Crew</th>\n",
       "      <th>overview</th>\n",
       "    </tr>\n",
       "  </thead>\n",
       "  <tbody>\n",
       "    <tr>\n",
       "      <th>0</th>\n",
       "      <td>238</td>\n",
       "      <td>The Godfather</td>\n",
       "      <td>[Drama, Crime]</td>\n",
       "      <td>[{'id': 131, 'name': 'italy'}, {'id': 697, 'na...</td>\n",
       "      <td>[{'adult': False, 'gender': 2, 'id': 3084, 'kn...</td>\n",
       "      <td>[{'adult': False, 'gender': 2, 'id': 154, 'kno...</td>\n",
       "      <td>Spanning the years 1945 to 1955, a chronicle o...</td>\n",
       "    </tr>\n",
       "    <tr>\n",
       "      <th>1</th>\n",
       "      <td>278</td>\n",
       "      <td>The Shawshank Redemption</td>\n",
       "      <td>[Drama, Crime]</td>\n",
       "      <td>[{'id': 378, 'name': 'prison'}, {'id': 417, 'n...</td>\n",
       "      <td>[{'adult': False, 'gender': 2, 'id': 504, 'kno...</td>\n",
       "      <td>[{'adult': False, 'gender': 2, 'id': 153, 'kno...</td>\n",
       "      <td>Framed in the 1940s for the double murder of h...</td>\n",
       "    </tr>\n",
       "    <tr>\n",
       "      <th>2</th>\n",
       "      <td>240</td>\n",
       "      <td>The Godfather Part II</td>\n",
       "      <td>[Drama, Crime]</td>\n",
       "      <td>[{'id': 131, 'name': 'italy'}, {'id': 700, 'na...</td>\n",
       "      <td>[{'adult': False, 'gender': 2, 'id': 1158, 'kn...</td>\n",
       "      <td>[{'adult': False, 'gender': 2, 'id': 154, 'kno...</td>\n",
       "      <td>In the continuing saga of the Corleone crime f...</td>\n",
       "    </tr>\n",
       "    <tr>\n",
       "      <th>3</th>\n",
       "      <td>19404</td>\n",
       "      <td>Dilwale Dulhania Le Jayenge</td>\n",
       "      <td>[Comedy, Drama, Romance]</td>\n",
       "      <td>[]</td>\n",
       "      <td>[{'adult': False, 'gender': 2, 'id': 35742, 'k...</td>\n",
       "      <td>[{'adult': False, 'gender': 1, 'id': 8311, 'kn...</td>\n",
       "      <td>Raj is a rich, carefree, happy-go-lucky second...</td>\n",
       "    </tr>\n",
       "    <tr>\n",
       "      <th>4</th>\n",
       "      <td>424</td>\n",
       "      <td>Schindler's List</td>\n",
       "      <td>[Drama, History, War]</td>\n",
       "      <td>[{'id': 818, 'name': 'based on novel or book'}...</td>\n",
       "      <td>[{'adult': False, 'gender': 2, 'id': 3896, 'kn...</td>\n",
       "      <td>[{'adult': False, 'gender': 2, 'id': 491, 'kno...</td>\n",
       "      <td>The true story of how businessman Oskar Schind...</td>\n",
       "    </tr>\n",
       "  </tbody>\n",
       "</table>\n",
       "</div>"
      ],
      "text/plain": [
       "   Movie_id                      title_x                    Genres  \\\n",
       "0       238                The Godfather            [Drama, Crime]   \n",
       "1       278     The Shawshank Redemption            [Drama, Crime]   \n",
       "2       240        The Godfather Part II            [Drama, Crime]   \n",
       "3     19404  Dilwale Dulhania Le Jayenge  [Comedy, Drama, Romance]   \n",
       "4       424             Schindler's List     [Drama, History, War]   \n",
       "\n",
       "                                            Keywords  \\\n",
       "0  [{'id': 131, 'name': 'italy'}, {'id': 697, 'na...   \n",
       "1  [{'id': 378, 'name': 'prison'}, {'id': 417, 'n...   \n",
       "2  [{'id': 131, 'name': 'italy'}, {'id': 700, 'na...   \n",
       "3                                                 []   \n",
       "4  [{'id': 818, 'name': 'based on novel or book'}...   \n",
       "\n",
       "                                                Cast  \\\n",
       "0  [{'adult': False, 'gender': 2, 'id': 3084, 'kn...   \n",
       "1  [{'adult': False, 'gender': 2, 'id': 504, 'kno...   \n",
       "2  [{'adult': False, 'gender': 2, 'id': 1158, 'kn...   \n",
       "3  [{'adult': False, 'gender': 2, 'id': 35742, 'k...   \n",
       "4  [{'adult': False, 'gender': 2, 'id': 3896, 'kn...   \n",
       "\n",
       "                                                Crew  \\\n",
       "0  [{'adult': False, 'gender': 2, 'id': 154, 'kno...   \n",
       "1  [{'adult': False, 'gender': 2, 'id': 153, 'kno...   \n",
       "2  [{'adult': False, 'gender': 2, 'id': 154, 'kno...   \n",
       "3  [{'adult': False, 'gender': 1, 'id': 8311, 'kn...   \n",
       "4  [{'adult': False, 'gender': 2, 'id': 491, 'kno...   \n",
       "\n",
       "                                            overview  \n",
       "0  Spanning the years 1945 to 1955, a chronicle o...  \n",
       "1  Framed in the 1940s for the double murder of h...  \n",
       "2  In the continuing saga of the Corleone crime f...  \n",
       "3  Raj is a rich, carefree, happy-go-lucky second...  \n",
       "4  The true story of how businessman Oskar Schind...  "
      ]
     },
     "execution_count": 51,
     "metadata": {},
     "output_type": "execute_result"
    }
   ],
   "source": [
    "movies.head()"
   ]
  },
  {
   "cell_type": "code",
   "execution_count": 52,
   "id": "66782bcd-d4a4-49a2-b504-daff4d40ce67",
   "metadata": {},
   "outputs": [],
   "source": [
    "movies['Keywords']=movies['Keywords'].apply(convert)"
   ]
  },
  {
   "cell_type": "code",
   "execution_count": 53,
   "id": "561f262c-a239-462f-907c-8010688cf662",
   "metadata": {},
   "outputs": [
    {
     "data": {
      "text/plain": [
       "'[{\\'adult\\': False, \\'gender\\': 2, \\'id\\': 3084, \\'known_for_department\\': \\'Acting\\', \\'name\\': \\'Marlon Brando\\', \\'original_name\\': \\'Marlon Brando\\', \\'popularity\\': 15.274, \\'profile_path\\': \\'/fuTEPMsBtV1zE98ujPONbKiYDc2.jpg\\', \\'cast_id\\': 5, \\'character\\': \\'Don Vito Corleone\\', \\'credit_id\\': \\'52fe422bc3a36847f8009357\\', \\'order\\': 0}, {\\'adult\\': False, \\'gender\\': 2, \\'id\\': 1158, \\'known_for_department\\': \\'Acting\\', \\'name\\': \\'Al Pacino\\', \\'original_name\\': \\'Al Pacino\\', \\'popularity\\': 32.169, \\'profile_path\\': \\'/fMDFeVf0pjopTJbyRSLFwNDm8Wr.jpg\\', \\'cast_id\\': 6, \\'character\\': \\'Don Michael Corleone\\', \\'credit_id\\': \\'52fe422bc3a36847f800935b\\', \\'order\\': 1}, {\\'adult\\': False, \\'gender\\': 2, \\'id\\': 3085, \\'known_for_department\\': \\'Acting\\', \\'name\\': \\'James Caan\\', \\'original_name\\': \\'James Caan\\', \\'popularity\\': 23.916, \\'profile_path\\': \\'/bGyOCCOIgcIyKjOGLoXoyp0XWHf.jpg\\', \\'cast_id\\': 7, \\'character\\': \"Santino \\'Sonny\\' Corleone\", \\'credit_id\\': \\'52fe422bc3a36847f800935f\\', \\'order\\': 2}, {\\'adult\\': False, \\'gender\\': 2, \\'id\\': 3087, \\'known_for_department\\': \\'Acting\\', \\'name\\': \\'Robert Duvall\\', \\'original_name\\': \\'Robert Duvall\\', \\'popularity\\': 24.079, \\'profile_path\\': \\'/ybMmK25h4IVtfE7qrnlVp47RQlh.jpg\\', \\'cast_id\\': 9, \\'character\\': \\'Tom Hagen\\', \\'credit_id\\': \\'52fe422bc3a36847f8009367\\', \\'order\\': 3}, {\\'adult\\': False, \\'gender\\': 0, \\'id\\': 3086, \\'known_for_department\\': \\'Acting\\', \\'name\\': \\'Richard S. Castellano\\', \\'original_name\\': \\'Richard S. Castellano\\', \\'popularity\\': 10.388, \\'profile_path\\': \\'/1vr75BdHWret81vuSJ3ugiCBkxw.jpg\\', \\'cast_id\\': 8, \\'character\\': \\'Pete Clemenza\\', \\'credit_id\\': \\'52fe422bc3a36847f8009363\\', \\'order\\': 4}, {\\'adult\\': False, \\'gender\\': 1, \\'id\\': 3092, \\'known_for_department\\': \\'Acting\\', \\'name\\': \\'Diane Keaton\\', \\'original_name\\': \\'Diane Keaton\\', \\'popularity\\': 21.404, \\'profile_path\\': \\'/7gEdH5vGwpUpogscTb2JivnoRBb.jpg\\', \\'cast_id\\': 13, \\'character\\': \\'Kay Adams\\', \\'credit_id\\': \\'52fe422bc3a36847f8009377\\', \\'order\\': 5}, {\\'adult\\': False, \\'gender\\': 1, \\'id\\': 3094, \\'known_for_department\\': \\'Acting\\', \\'name\\': \\'Talia Shire\\', \\'original_name\\': \\'Talia Shire\\', \\'popularity\\': 14.677, \\'profile_path\\': \\'/due9MtmbvCMDd1aNveuMyjsaZ8W.jpg\\', \\'cast_id\\': 15, \\'character\\': \"Constanzia \\'Connie\\' Corleone-Rizzi\", \\'credit_id\\': \\'52fe422bc3a36847f800937f\\', \\'order\\': 6}, {\\'adult\\': False, \\'gender\\': 2, \\'id\\': 3095, \\'known_for_department\\': \\'Acting\\', \\'name\\': \\'Gianni Russo\\', \\'original_name\\': \\'Gianni Russo\\', \\'popularity\\': 8.099, \\'profile_path\\': \\'/5fjg2WPvuk1NvUpLyQ7aMJqOqy.jpg\\', \\'cast_id\\': 16, \\'character\\': \\'Carlo Rizzi\\', \\'credit_id\\': \\'52fe422bc3a36847f8009383\\', \\'order\\': 7}, {\\'adult\\': False, \\'gender\\': 2, \\'id\\': 3088, \\'known_for_department\\': \\'Acting\\', \\'name\\': \\'Sterling Hayden\\', \\'original_name\\': \\'Sterling Hayden\\', \\'popularity\\': 12.446, \\'profile_path\\': \\'/j1ExJbuBqBa6WEhPVW4J7YGFBWs.jpg\\', \\'cast_id\\': 10, \\'character\\': \\'Capt. Mark McCluskey\\', \\'credit_id\\': \\'52fe422bc3a36847f800936b\\', \\'order\\': 8}, {\\'adult\\': False, \\'gender\\': 2, \\'id\\': 3091, \\'known_for_department\\': \\'Acting\\', \\'name\\': \\'Al Lettieri\\', \\'original_name\\': \\'Al Lettieri\\', \\'popularity\\': 8.127, \\'profile_path\\': \\'/fE5mEWPkkVJlCji0EoKht8PYw89.jpg\\', \\'cast_id\\': 12, \\'character\\': \"Virgil \\'The Turk\\' Sollozzo\", \\'credit_id\\': \\'52fe422bc3a36847f8009373\\', \\'order\\': 9}, {\\'adult\\': False, \\'gender\\': 2, \\'id\\': 3093, \\'known_for_department\\': \\'Acting\\', \\'name\\': \\'Abe Vigoda\\', \\'original_name\\': \\'Abe Vigoda\\', \\'popularity\\': 6.822, \\'profile_path\\': \\'/luWKPNb58IgJ2ovrtgPAzHGLLYL.jpg\\', \\'cast_id\\': 14, \\'character\\': \"Salvatore \\'Sal\\' Tessio\", \\'credit_id\\': \\'52fe422bc3a36847f800937b\\', \\'order\\': 10}, {\\'adult\\': False, \\'gender\\': 2, \\'id\\': 3096, \\'known_for_department\\': \\'Acting\\', \\'name\\': \\'John Cazale\\', \\'original_name\\': \\'John Cazale\\', \\'popularity\\': 10.158, \\'profile_path\\': \\'/tRBImYIYk9tuR4fjJc8gHXC8ENj.jpg\\', \\'cast_id\\': 17, \\'character\\': \"Frederico \\'Fredo\\' Corleone\", \\'credit_id\\': \\'52fe422bc3a36847f8009387\\', \\'order\\': 11}, {\\'adult\\': False, \\'gender\\': 2, \\'id\\': 3090, \\'known_for_department\\': \\'Acting\\', \\'name\\': \\'Richard Conte\\', \\'original_name\\': \\'Richard Conte\\', \\'popularity\\': 9.971, \\'profile_path\\': \\'/pTTzNets0bgWAqx18D7by0hWUea.jpg\\', \\'cast_id\\': 11, \\'character\\': \\'Don Emilio Barzini\\', \\'credit_id\\': \\'52fe422bc3a36847f800936f\\', \\'order\\': 12}, {\\'adult\\': False, \\'gender\\': 2, \\'id\\': 3142, \\'known_for_department\\': \\'Acting\\', \\'name\\': \\'John Marley\\', \\'original_name\\': \\'John Marley\\', \\'popularity\\': 2.497, \\'profile_path\\': None, \\'cast_id\\': 33, \\'character\\': \\'Jack Woltz\\', \\'credit_id\\': \\'52fe422bc3a36847f800938b\\', \\'order\\': 13}, {\\'adult\\': False, \\'gender\\': 2, \\'id\\': 3143, \\'known_for_department\\': \\'Acting\\', \\'name\\': \\'Rudy Bond\\', \\'original_name\\': \\'Rudy Bond\\', \\'popularity\\': 1.948, \\'profile_path\\': \\'/kP77m6ot9dfOR2V3ykbyOAx2diK.jpg\\', \\'cast_id\\': 34, \\'character\\': \\'Carmine Cuneo\\', \\'credit_id\\': \\'52fe422bc3a36847f800938f\\', \\'order\\': 14}, {\\'adult\\': False, \\'gender\\': 2, \\'id\\': 3144, \\'known_for_department\\': \\'Acting\\', \\'name\\': \\'Al Martino\\', \\'original_name\\': \\'Al Martino\\', \\'popularity\\': 2.803, \\'profile_path\\': \\'/9luOyyiqWFNQgSOSStH66LTWZ3p.jpg\\', \\'cast_id\\': 35, \\'character\\': \\'Johnny Fontane\\', \\'credit_id\\': \\'52fe422bc3a36847f8009393\\', \\'order\\': 15}, {\\'adult\\': False, \\'gender\\': 1, \\'id\\': 933716, \\'known_for_department\\': \\'Acting\\', \\'name\\': \\'Morgana King\\', \\'original_name\\': \\'Morgana King\\', \\'popularity\\': 1.88, \\'profile_path\\': \\'/zPsFAqH4NXD7rMWl2Kj3rEyGrKj.jpg\\', \\'cast_id\\': 42, \\'character\\': \"Carmela \\'Mama\\' Corleone\", \\'credit_id\\': \\'52fe422bc3a36847f80093a7\\', \\'order\\': 16}, {\\'adult\\': False, \\'gender\\': 2, \\'id\\': 106811, \\'known_for_department\\': \\'Acting\\', \\'name\\': \\'Lenny Montana\\', \\'original_name\\': \\'Lenny Montana\\', \\'popularity\\': 3.293, \\'profile_path\\': \\'/3R52Zh3MBCaSPqmcyWcD1Y0N4wo.jpg\\', \\'cast_id\\': 45, \\'character\\': \\'Luca Brasi\\', \\'credit_id\\': \\'52fe422bc3a36847f80093b3\\', \\'order\\': 17}, {\\'adult\\': False, \\'gender\\': 2, \\'id\\': 99724, \\'known_for_department\\': \\'Acting\\', \\'name\\': \\'John Martino\\', \\'original_name\\': \\'John Martino\\', \\'popularity\\': 1.327, \\'profile_path\\': \\'/3c8BOgJ8UdHi5x5BS3lYnFngxB5.jpg\\', \\'cast_id\\': 47, \\'character\\': \\'Paulie Gatto\\', \\'credit_id\\': \\'52fe422bc3a36847f80093bb\\', \\'order\\': 18}, {\\'adult\\': False, \\'gender\\': 2, \\'id\\': 20752, \\'known_for_department\\': \\'Acting\\', \\'name\\': \\'Alex Rocco\\', \\'original_name\\': \\'Alex Rocco\\', \\'popularity\\': 5.939, \\'profile_path\\': \\'/u2JStL4Pk9Huq1xmrjqezfysivt.jpg\\', \\'cast_id\\': 41, \\'character\\': \\'Moe Greene\\', \\'credit_id\\': \\'52fe422bc3a36847f80093a3\\', \\'order\\': 19}, {\\'adult\\': False, \\'gender\\': 0, \\'id\\': 1195877, \\'known_for_department\\': \\'Acting\\', \\'name\\': \\'Salvatore Corsitto\\', \\'original_name\\': \\'Salvatore Corsitto\\', \\'popularity\\': 3.583, \\'profile_path\\': \\'/79OfgwtdP5qsR1UX6ERkrdmRT8c.jpg\\', \\'cast_id\\': 46, \\'character\\': \\'Amerigo Bonasera\\', \\'credit_id\\': \\'52fe422bc3a36847f80093b7\\', \\'order\\': 20}, {\\'adult\\': False, \\'gender\\': 2, \\'id\\': 3414, \\'known_for_department\\': \\'Acting\\', \\'name\\': \\'Tony Giorgio\\', \\'original_name\\': \\'Tony Giorgio\\', \\'popularity\\': 2.891, \\'profile_path\\': \\'/1uhgwgjoX7WaakEOBmtBRJKtgEB.jpg\\', \\'cast_id\\': 38, \\'character\\': \\'Bruno Tattaglia\\', \\'credit_id\\': \\'52fe422bc3a36847f800939f\\', \\'order\\': 21}, {\\'adult\\': False, \\'gender\\': 2, \\'id\\': 3413, \\'known_for_department\\': \\'Acting\\', \\'name\\': \\'Victor Rendina\\', \\'original_name\\': \\'Victor Rendina\\', \\'popularity\\': 3.206, \\'profile_path\\': \\'/vuNdsjDpgom80WBdB2WBTWuEIuM.jpg\\', \\'cast_id\\': 37, \\'character\\': \\'Philip Tattaglia\\', \\'credit_id\\': \\'52fe422bc3a36847f800939b\\', \\'order\\': 22}, {\\'adult\\': False, \\'gender\\': 1, \\'id\\': 3145, \\'known_for_department\\': \\'Acting\\', \\'name\\': \\'Simonetta Stefanelli\\', \\'original_name\\': \\'Simonetta Stefanelli\\', \\'popularity\\': 9.643, \\'profile_path\\': \\'/sVDrhgxuE6SHnj7q07OG6ywPUYR.jpg\\', \\'cast_id\\': 36, \\'character\\': \\'Apollonia Vitelli-Corleone\\', \\'credit_id\\': \\'52fe422bc3a36847f8009397\\', \\'order\\': 23}, {\\'adult\\': False, \\'gender\\': 2, \\'id\\': 119431, \\'known_for_department\\': \\'Acting\\', \\'name\\': \\'Saro Urzì\\', \\'original_name\\': \\'Saro Urzì\\', \\'popularity\\': 1.858, \\'profile_path\\': \\'/nPJytCpcNdG5ssPoKeEvxM6xifx.jpg\\', \\'cast_id\\': 48, \\'character\\': \\'Mr. Vitelli\\', \\'credit_id\\': \\'52fe422bc3a36847f80093bf\\', \\'order\\': 24}, {\\'adult\\': False, \\'gender\\': 1, \\'id\\': 1769, \\'known_for_department\\': \\'Directing\\', \\'name\\': \\'Sofia Coppola\\', \\'original_name\\': \\'Sofia Coppola\\', \\'popularity\\': 8.353, \\'profile_path\\': \\'/dzHC2LxmarkBxWLhjp2DRa5oCev.jpg\\', \\'cast_id\\': 43, \\'character\\': \\'Michael Francis Rizzi\\', \\'credit_id\\': \\'52fe422bc3a36847f80093ab\\', \\'order\\': 25}, {\\'adult\\': False, \\'gender\\': 2, \\'id\\': 20973, \\'known_for_department\\': \\'Acting\\', \\'name\\': \\'Louis Guss\\', \\'original_name\\': \\'Louis Guss\\', \\'popularity\\': 3.076, \\'profile_path\\': \\'/hz5Akuh4QcqitlifYwDiZ9ut6Tr.jpg\\', \\'cast_id\\': 44, \\'character\\': \\'Don Zaluchi\\', \\'credit_id\\': \\'52fe422bc3a36847f80093af\\', \\'order\\': 26}, {\\'adult\\': False, \\'gender\\': 2, \\'id\\': 3174, \\'known_for_department\\': \\'Acting\\', \\'name\\': \\'Richard Bright\\', \\'original_name\\': \\'Richard Bright\\', \\'popularity\\': 6.476, \\'profile_path\\': \\'/potMaJ2u5PRjXZb7qF9lSW1ldNZ.jpg\\', \\'cast_id\\': 70, \\'character\\': \\'Neri\\', \\'credit_id\\': \\'55be4cdbc3a3683921003065\\', \\'order\\': 27}, {\\'adult\\': False, \\'gender\\': 2, \\'id\\': 82779, \\'known_for_department\\': \\'Acting\\', \\'name\\': \\'Vito Scotti\\', \\'original_name\\': \\'Vito Scotti\\', \\'popularity\\': 5.8, \\'profile_path\\': \\'/zDGtXkASxpo3DzMNz6OI3NOp9v0.jpg\\', \\'cast_id\\': 71, \\'character\\': \\'Nazorine\\', \\'credit_id\\': \\'55be4cff9251413e49004a59\\', \\'order\\': 28}, {\\'adult\\': False, \\'gender\\': 1, \\'id\\': 982089, \\'known_for_department\\': \\'Acting\\', \\'name\\': \\'Tere Livrano\\', \\'original_name\\': \\'Tere Livrano\\', \\'popularity\\': 2.217, \\'profile_path\\': \\'/eBoC3425jmwRlsT2W8qUDsNwVXB.jpg\\', \\'cast_id\\': 72, \\'character\\': \\'Theresa Hagen\\', \\'credit_id\\': \\'55be4d40c3a368392100306d\\', \\'order\\': 29}, {\\'adult\\': False, \\'gender\\': 1, \\'id\\': 160728, \\'known_for_department\\': \\'Acting\\', \\'name\\': \\'Julie Gregg\\', \\'original_name\\': \\'Julie Gregg\\', \\'popularity\\': 2.669, \\'profile_path\\': \\'/8Kx71BnZNtpzb86jH7fcArWhJBh.jpg\\', \\'cast_id\\': 77, \\'character\\': \"Sandrinella \\'Sandra\\' Corleone\", \\'credit_id\\': \\'55ee4ac0c3a3686f170063c4\\', \\'order\\': 30}, {\\'adult\\': False, \\'gender\\': 2, \\'id\\': 27647, \\'known_for_department\\': \\'Acting\\', \\'name\\': \\'Angelo Infanti\\', \\'original_name\\': \\'Angelo Infanti\\', \\'popularity\\': 4.573, \\'profile_path\\': \\'/dkRVpiDj9YyiuM15XZKT11zZBIR.jpg\\', \\'cast_id\\': 74, \\'character\\': \\'Fabrizio\\', \\'credit_id\\': \\'55be4dffc3a368652600471c\\', \\'order\\': 31}, {\\'adult\\': False, \\'gender\\': 2, \\'id\\': 24604, \\'known_for_department\\': \\'Acting\\', \\'name\\': \\'Corrado Gaipa\\', \\'original_name\\': \\'Corrado Gaipa\\', \\'popularity\\': 2.558, \\'profile_path\\': \\'/7vR2BOdVw9FwJKjgpcisjKEytnL.jpg\\', \\'cast_id\\': 75, \\'character\\': \\'Don Tommasino\\', \\'credit_id\\': \\'55be4e2fc3a3686534005572\\', \\'order\\': 32}, {\\'adult\\': False, \\'gender\\': 2, \\'id\\': 44860, \\'known_for_department\\': \\'Acting\\', \\'name\\': \\'Franco Citti\\', \\'original_name\\': \\'Franco Citti\\', \\'popularity\\': 2.498, \\'profile_path\\': \\'/mttQPjOHaql4RKsfYriUA7HuROE.jpg\\', \\'cast_id\\': 76, \\'character\\': \\'Calò\\', \\'credit_id\\': \\'55be4e5bc3a3683921003083\\', \\'order\\': 33}, {\\'adult\\': False, \\'gender\\': 0, \\'id\\': 138211, \\'known_for_department\\': \\'Acting\\', \\'name\\': \\'Gabriele Torrei\\', \\'original_name\\': \\'Gabriele Torrei\\', \\'popularity\\': 2.653, \\'profile_path\\': \\'/x3KeYWTWX5SqZ3NuQGiWiadO4DI.jpg\\', \\'cast_id\\': 49, \\'character\\': \\'Enzo the Baker (uncredited)\\', \\'credit_id\\': \\'52fe422bc3a36847f80093c3\\', \\'order\\': 34}, {\\'adult\\': False, \\'gender\\': 2, \\'id\\': 55672, \\'known_for_department\\': \\'Acting\\', \\'name\\': \\'Tony King\\', \\'original_name\\': \\'Tony King\\', \\'popularity\\': 3.56, \\'profile_path\\': \\'/hOVVHEyc6euuuRhCLo6Q5YE4lLz.jpg\\', \\'cast_id\\': 69, \\'character\\': \\'Tony the Stablehand (uncredited)\\', \\'credit_id\\': \\'54de315fc3a3685446001351\\', \\'order\\': 35}, {\\'adult\\': False, \\'gender\\': 0, \\'id\\': 178006, \\'known_for_department\\': \\'Acting\\', \\'name\\': \\'Max Brandt\\', \\'original_name\\': \\'Max Brandt\\', \\'popularity\\': 0.991, \\'profile_path\\': None, \\'cast_id\\': 78, \\'character\\': \\'Extra in Furniture-Moving Scene (uncredited)\\', \\'credit_id\\': \\'55f1b3c992514167010020a7\\', \\'order\\': 36}, {\\'adult\\': False, \\'gender\\': 2, \\'id\\': 2872, \\'known_for_department\\': \\'Sound\\', \\'name\\': \\'Carmine Coppola\\', \\'original_name\\': \\'Carmine Coppola\\', \\'popularity\\': 2.829, \\'profile_path\\': \\'/iURpKXIgdtQoVCBQ8GKGvb0Qw5z.jpg\\', \\'cast_id\\': 79, \\'character\\': \\'Piano Player in Montage (uncredited)\\', \\'credit_id\\': \\'55f1b3ffc3a368230a00239f\\', \\'order\\': 37}, {\\'adult\\': False, \\'gender\\': 2, \\'id\\': 38803, \\'known_for_department\\': \\'Writing\\', \\'name\\': \\'Roman Coppola\\', \\'original_name\\': \\'Roman Coppola\\', \\'popularity\\': 4.894, \\'profile_path\\': \\'/rKamKkx78qjZTfvqi2OWCo5p6x5.jpg\\', \\'cast_id\\': 80, \\'character\\': \\'Boy on Street Who Attended Funeral (uncredited)\\', \\'credit_id\\': \\'55f1b452c3a36822f5002395\\', \\'order\\': 38}, {\\'adult\\': False, \\'gender\\': 0, \\'id\\': 1209294, \\'known_for_department\\': \\'Acting\\', \\'name\\': \\'Don Costello\\', \\'original_name\\': \\'Don Costello\\', \\'popularity\\': 1.38, \\'profile_path\\': None, \\'cast_id\\': 81, \\'character\\': \\'Don Victor Stracci (uncredited)\\', \\'credit_id\\': \\'55f1b4bac3a3682303002284\\', \\'order\\': 39}, {\\'adult\\': False, \\'gender\\': 2, \\'id\\': 1394703, \\'known_for_department\\': \\'Acting\\', \\'name\\': \\'Robert Dahdah\\', \\'original_name\\': \\'Robert Dahdah\\', \\'popularity\\': 0.6, \\'profile_path\\': None, \\'cast_id\\': 82, \\'character\\': \\'Crowd (uncredited)\\', \\'credit_id\\': \\'55f1b4de925141670d002392\\', \\'order\\': 40}, {\\'adult\\': False, \\'gender\\': 2, \\'id\\': 2870, \\'known_for_department\\': \\'Production\\', \\'name\\': \\'Gray Frederickson\\', \\'original_name\\': \\'Gray Frederickson\\', \\'popularity\\': 3.018, \\'profile_path\\': None, \\'cast_id\\': 83, \\'character\\': \"Cowboy on the Set at Woltz\\'s Studio (uncredited)\", \\'credit_id\\': \\'55f1b507925141670d00239a\\', \\'order\\': 41}, {\\'adult\\': False, \\'gender\\': 2, \\'id\\': 160621, \\'known_for_department\\': \\'Acting\\', \\'name\\': \\'Ron Gilbert\\', \\'original_name\\': \\'Ron Gilbert\\', \\'popularity\\': 0.783, \\'profile_path\\': \\'/qrY6w2k0YpuMB2yTCOv6cxeQtmw.jpg\\', \\'cast_id\\': 84, \\'character\\': \\'Usher in Bridal Party (uncredited)\\', \\'credit_id\\': \\'55f1b52f9251416711002211\\', \\'order\\': 42}, {\\'adult\\': False, \\'gender\\': 2, \\'id\\': 1233541, \\'known_for_department\\': \\'Acting\\', \\'name\\': \\'Sonny Grosso\\', \\'original_name\\': \\'Sonny Grosso\\', \\'popularity\\': 2.238, \\'profile_path\\': None, \\'cast_id\\': 87, \\'character\\': \\'Cop Outside Hospital (uncredited)\\', \\'credit_id\\': \\'55f1b5bb925141670100210a\\', \\'order\\': 43}, {\\'adult\\': False, \\'gender\\': 2, \\'id\\': 1503036, \\'known_for_department\\': \\'Acting\\', \\'name\\': \\'Joe Lo Grippo\\', \\'original_name\\': \\'Joe Lo Grippo\\', \\'popularity\\': 0.6, \\'profile_path\\': None, \\'cast_id\\': 86, \\'character\\': \"Sonny\\'s Bodyguard (uncredited)\", \\'credit_id\\': \\'55f1b59dc3a3683bec00231e\\', \\'order\\': 44}, {\\'adult\\': False, \\'gender\\': 2, \\'id\\': 1068099, \\'known_for_department\\': \\'Acting\\', \\'name\\': \\'Randy Jurgensen\\', \\'original_name\\': \\'Randy Jurgensen\\', \\'popularity\\': 0.786, \\'profile_path\\': \\'/xRoN79wRLndTMCJoaBSsdjQVIzI.jpg\\', \\'cast_id\\': 89, \\'character\\': \"Sonny\\'s Killer #1 (uncredited)\", \\'credit_id\\': \\'55f1b61ec3a3683bec002335\\', \\'order\\': 45}, {\\'adult\\': False, \\'gender\\': 2, \\'id\\': 61241, \\'known_for_department\\': \\'Acting\\', \\'name\\': \\'Tony Lip\\', \\'original_name\\': \\'Tony Lip\\', \\'popularity\\': 7.085, \\'profile_path\\': \\'/6xz6XmjgiCCOm067OzWYziD4Mxa.jpg\\', \\'cast_id\\': 90, \\'character\\': \\'Wedding Guest (uncredited)\\', \\'credit_id\\': \\'55f1b685c3a36823070023b6\\', \\'order\\': 46}, {\\'adult\\': False, \\'gender\\': 2, \\'id\\': 106187, \\'known_for_department\\': \\'Acting\\', \\'name\\': \\'Lou Martini Jr.\\', \\'original_name\\': \\'Lou Martini Jr.\\', \\'popularity\\': 1.631, \\'profile_path\\': \\'/85s5KR0BA6dhMJtOrvtKGY8Bz8E.jpg\\', \\'cast_id\\': 91, \\'character\\': \\'Boy at Wedding (uncredited)\\', \\'credit_id\\': \\'55f1b6c39251416701002141\\', \\'order\\': 47}, {\\'adult\\': False, \\'gender\\': 2, \\'id\\': 100503, \\'known_for_department\\': \\'Acting\\', \\'name\\': \\'Raymond Martino\\', \\'original_name\\': \\'Raymond Martino\\', \\'popularity\\': 1.135, \\'profile_path\\': None, \\'cast_id\\': 92, \\'character\\': \\'Corleone Family Member (uncredited)\\', \\'credit_id\\': \\'55f1b6e59251416711002257\\', \\'order\\': 48}, {\\'adult\\': False, \\'gender\\': 2, \\'id\\': 1503035, \\'known_for_department\\': \\'Acting\\', \\'name\\': \\'Joseph Medaglia\\', \\'original_name\\': \\'Joseph Medaglia\\', \\'popularity\\': 1.667, \\'profile_path\\': None, \\'cast_id\\': 93, \\'character\\': \\'Priest at Baptism (uncredited)\\', \\'credit_id\\': \\'55f1b73dc3a3685eb80005f7\\', \\'order\\': 49}, {\\'adult\\': False, \\'gender\\': 0, \\'id\\': 1290895, \\'known_for_department\\': \\'Acting\\', \\'name\\': \\'Rick Petrucelli\\', \\'original_name\\': \\'Rick Petrucelli\\', \\'popularity\\': 1.597, \\'profile_path\\': None, \\'cast_id\\': 94, \\'character\\': \\'Man in Passenger Seat (uncredited)\\', \\'credit_id\\': \\'55f1b769925141671400218e\\', \\'order\\': 50}, {\\'adult\\': False, \\'gender\\': 0, \\'id\\': 1237372, \\'known_for_department\\': \\'Acting\\', \\'name\\': \\'Sal Richards\\', \\'original_name\\': \\'Sal Richards\\', \\'popularity\\': 1.16, \\'profile_path\\': \\'/gZSiZOtBVv1U4hqjlKkPr2p5rCP.jpg\\', \\'cast_id\\': 95, \\'character\\': \\'Drunk (uncredited)\\', \\'credit_id\\': \\'55f1b7c29251410d6d000acb\\', \\'order\\': 51}, {\\'adult\\': False, \\'gender\\': 2, \\'id\\': 1213795, \\'known_for_department\\': \\'Acting\\', \\'name\\': \\'Tom Rosqui\\', \\'original_name\\': \\'Tom Rosqui\\', \\'popularity\\': 3.503, \\'profile_path\\': None, \\'cast_id\\': 96, \\'character\\': \\'Rocco Lampone (uncredited)\\', \\'credit_id\\': \\'55f1b7e2925141670d00243a\\', \\'order\\': 52}, {\\'adult\\': False, \\'gender\\': 2, \\'id\\': 11480, \\'known_for_department\\': \\'Acting\\', \\'name\\': \\'Frank Sivero\\', \\'original_name\\': \\'Frank Sivero\\', \\'popularity\\': 4.499, \\'profile_path\\': \\'/eqvhj0iNtcsN6EJhd21Goqi1DSq.jpg\\', \\'cast_id\\': 97, \\'character\\': \\'Street Extra (uncredited)\\', \\'credit_id\\': \\'55f1b81092514167140021b1\\', \\'order\\': 53}, {\\'adult\\': False, \\'gender\\': 0, \\'id\\': 1209678, \\'known_for_department\\': \\'Acting\\', \\'name\\': \\'Filomena Spagnuolo\\', \\'original_name\\': \\'Filomena Spagnuolo\\', \\'popularity\\': 0.6, \\'profile_path\\': None, \\'cast_id\\': 98, \\'character\\': \\'Extra in Wedding Scene (uncredited)\\', \\'credit_id\\': \\'55f1b83592514167140021c1\\', \\'order\\': 54}, {\\'adult\\': False, \\'gender\\': 2, \\'id\\': 78336, \\'known_for_department\\': \\'Directing\\', \\'name\\': \\'Nick Vallelonga\\', \\'original_name\\': \\'Nick Vallelonga\\', \\'popularity\\': 8.561, \\'profile_path\\': \\'/h0GwAHN1J5lDysqgWxMIg66LNBW.jpg\\', \\'cast_id\\': 100, \\'character\\': \\'Wedding Party Guest (uncredited)\\', \\'credit_id\\': \\'55f1b89b9251410d6d000af0\\', \\'order\\': 55}, {\\'adult\\': False, \\'gender\\': 2, \\'id\\': 16525, \\'known_for_department\\': \\'Acting\\', \\'name\\': \\'Joe Spinell\\', \\'original_name\\': \\'Joe Spinell\\', \\'popularity\\': 4.913, \\'profile_path\\': \\'/rdDEi8SJSx9OwVJQaHNa3VfZBRM.jpg\\', \\'cast_id\\': 99, \\'character\\': \"William \\'Willie\\' Cicci (uncredited)\", \\'credit_id\\': \\'55f1b85d925141670500228d\\', \\'order\\': 56}, {\\'adult\\': False, \\'gender\\': 2, \\'id\\': 1234848, \\'known_for_department\\': \\'Acting\\', \\'name\\': \\'Conrad Yama\\', \\'original_name\\': \\'Conrad Yama\\', \\'popularity\\': 1.287, \\'profile_path\\': None, \\'cast_id\\': 101, \\'character\\': \\'Fruit Vendor (uncredited)\\', \\'credit_id\\': \\'55f1b90892514167050022a8\\', \\'order\\': 57}]'"
      ]
     },
     "execution_count": 53,
     "metadata": {},
     "output_type": "execute_result"
    }
   ],
   "source": [
    "movies['Cast'][0]"
   ]
  },
  {
   "cell_type": "code",
   "execution_count": 54,
   "id": "7545155f-c42f-450c-b080-04266315f80d",
   "metadata": {},
   "outputs": [],
   "source": [
    "import ast\n",
    "def convert3(obj):\n",
    "    counter=0\n",
    "    l=[]\n",
    "    for i in ast.literal_eval(obj): #ast.literal_eval() used to convert them in a list with reference of index acctly the given are in dictorny strings\n",
    "        if counter !=3:\n",
    "            l.append(i['original_name'])\n",
    "            counter+=1\n",
    "        else:\n",
    "            break\n",
    "    return l\n",
    "\n"
   ]
  },
  {
   "cell_type": "code",
   "execution_count": 55,
   "id": "8b7664af-5d58-48b8-a50c-0e638421af0b",
   "metadata": {},
   "outputs": [],
   "source": [
    "movies['Cast']=movies['Cast'].apply(convert3)"
   ]
  },
  {
   "cell_type": "code",
   "execution_count": 56,
   "id": "fdb0ce97-d54f-4cd9-b8bb-fb5b22ecb75e",
   "metadata": {},
   "outputs": [
    {
     "data": {
      "text/html": [
       "<div>\n",
       "<style scoped>\n",
       "    .dataframe tbody tr th:only-of-type {\n",
       "        vertical-align: middle;\n",
       "    }\n",
       "\n",
       "    .dataframe tbody tr th {\n",
       "        vertical-align: top;\n",
       "    }\n",
       "\n",
       "    .dataframe thead th {\n",
       "        text-align: right;\n",
       "    }\n",
       "</style>\n",
       "<table border=\"1\" class=\"dataframe\">\n",
       "  <thead>\n",
       "    <tr style=\"text-align: right;\">\n",
       "      <th></th>\n",
       "      <th>Movie_id</th>\n",
       "      <th>title_x</th>\n",
       "      <th>Genres</th>\n",
       "      <th>Keywords</th>\n",
       "      <th>Cast</th>\n",
       "      <th>Crew</th>\n",
       "      <th>overview</th>\n",
       "    </tr>\n",
       "  </thead>\n",
       "  <tbody>\n",
       "    <tr>\n",
       "      <th>0</th>\n",
       "      <td>238</td>\n",
       "      <td>The Godfather</td>\n",
       "      <td>[Drama, Crime]</td>\n",
       "      <td>[italy, loss of loved one, love at first sight...</td>\n",
       "      <td>[Marlon Brando, Al Pacino, James Caan]</td>\n",
       "      <td>[{'adult': False, 'gender': 2, 'id': 154, 'kno...</td>\n",
       "      <td>Spanning the years 1945 to 1955, a chronicle o...</td>\n",
       "    </tr>\n",
       "    <tr>\n",
       "      <th>1</th>\n",
       "      <td>278</td>\n",
       "      <td>The Shawshank Redemption</td>\n",
       "      <td>[Drama, Crime]</td>\n",
       "      <td>[prison, corruption, police brutality, based o...</td>\n",
       "      <td>[Tim Robbins, Morgan Freeman, Bob Gunton]</td>\n",
       "      <td>[{'adult': False, 'gender': 2, 'id': 153, 'kno...</td>\n",
       "      <td>Framed in the 1940s for the double murder of h...</td>\n",
       "    </tr>\n",
       "    <tr>\n",
       "      <th>2</th>\n",
       "      <td>240</td>\n",
       "      <td>The Godfather Part II</td>\n",
       "      <td>[Drama, Crime]</td>\n",
       "      <td>[italy, italian american, cuba, symbolism, gan...</td>\n",
       "      <td>[Al Pacino, Robert Duvall, Diane Keaton]</td>\n",
       "      <td>[{'adult': False, 'gender': 2, 'id': 154, 'kno...</td>\n",
       "      <td>In the continuing saga of the Corleone crime f...</td>\n",
       "    </tr>\n",
       "    <tr>\n",
       "      <th>3</th>\n",
       "      <td>19404</td>\n",
       "      <td>Dilwale Dulhania Le Jayenge</td>\n",
       "      <td>[Comedy, Drama, Romance]</td>\n",
       "      <td>[]</td>\n",
       "      <td>[Shah Rukh Khan, Kajol, Amrish Puri]</td>\n",
       "      <td>[{'adult': False, 'gender': 1, 'id': 8311, 'kn...</td>\n",
       "      <td>Raj is a rich, carefree, happy-go-lucky second...</td>\n",
       "    </tr>\n",
       "    <tr>\n",
       "      <th>4</th>\n",
       "      <td>424</td>\n",
       "      <td>Schindler's List</td>\n",
       "      <td>[Drama, History, War]</td>\n",
       "      <td>[based on novel or book, factory, concentratio...</td>\n",
       "      <td>[Liam Neeson, Ben Kingsley, Ralph Fiennes]</td>\n",
       "      <td>[{'adult': False, 'gender': 2, 'id': 491, 'kno...</td>\n",
       "      <td>The true story of how businessman Oskar Schind...</td>\n",
       "    </tr>\n",
       "  </tbody>\n",
       "</table>\n",
       "</div>"
      ],
      "text/plain": [
       "   Movie_id                      title_x                    Genres  \\\n",
       "0       238                The Godfather            [Drama, Crime]   \n",
       "1       278     The Shawshank Redemption            [Drama, Crime]   \n",
       "2       240        The Godfather Part II            [Drama, Crime]   \n",
       "3     19404  Dilwale Dulhania Le Jayenge  [Comedy, Drama, Romance]   \n",
       "4       424             Schindler's List     [Drama, History, War]   \n",
       "\n",
       "                                            Keywords  \\\n",
       "0  [italy, loss of loved one, love at first sight...   \n",
       "1  [prison, corruption, police brutality, based o...   \n",
       "2  [italy, italian american, cuba, symbolism, gan...   \n",
       "3                                                 []   \n",
       "4  [based on novel or book, factory, concentratio...   \n",
       "\n",
       "                                         Cast  \\\n",
       "0      [Marlon Brando, Al Pacino, James Caan]   \n",
       "1   [Tim Robbins, Morgan Freeman, Bob Gunton]   \n",
       "2    [Al Pacino, Robert Duvall, Diane Keaton]   \n",
       "3        [Shah Rukh Khan, Kajol, Amrish Puri]   \n",
       "4  [Liam Neeson, Ben Kingsley, Ralph Fiennes]   \n",
       "\n",
       "                                                Crew  \\\n",
       "0  [{'adult': False, 'gender': 2, 'id': 154, 'kno...   \n",
       "1  [{'adult': False, 'gender': 2, 'id': 153, 'kno...   \n",
       "2  [{'adult': False, 'gender': 2, 'id': 154, 'kno...   \n",
       "3  [{'adult': False, 'gender': 1, 'id': 8311, 'kn...   \n",
       "4  [{'adult': False, 'gender': 2, 'id': 491, 'kno...   \n",
       "\n",
       "                                            overview  \n",
       "0  Spanning the years 1945 to 1955, a chronicle o...  \n",
       "1  Framed in the 1940s for the double murder of h...  \n",
       "2  In the continuing saga of the Corleone crime f...  \n",
       "3  Raj is a rich, carefree, happy-go-lucky second...  \n",
       "4  The true story of how businessman Oskar Schind...  "
      ]
     },
     "execution_count": 56,
     "metadata": {},
     "output_type": "execute_result"
    }
   ],
   "source": [
    "movies.head()"
   ]
  },
  {
   "cell_type": "code",
   "execution_count": 57,
   "id": "72138564-4bf7-4d88-8b84-527dda14ea00",
   "metadata": {},
   "outputs": [
    {
     "data": {
      "text/plain": [
       "\"[{'adult': False, 'gender': 2, 'id': 154, 'known_for_department': 'Editing', 'name': 'Walter Murch', 'original_name': 'Walter Murch', 'popularity': 3.167, 'profile_path': '/kQh7U7kRLF9NKEMpxiGjZEIu0o3.jpg', 'credit_id': '62bd43fb63d9370092ba09da', 'department': 'Crew', 'job': 'Post Production Consulting'}, {'adult': False, 'gender': 2, 'id': 1776, 'known_for_department': 'Directing', 'name': 'Francis Ford Coppola', 'original_name': 'Francis Ford Coppola', 'popularity': 8.922, 'profile_path': '/mGKkVp3l9cipPt10AqoQnwaPrfI.jpg', 'credit_id': '52fe422bc3a36847f80093db', 'department': 'Writing', 'job': 'Screenplay'}, {'adult': False, 'gender': 2, 'id': 1776, 'known_for_department': 'Directing', 'name': 'Francis Ford Coppola', 'original_name': 'Francis Ford Coppola', 'popularity': 8.922, 'profile_path': '/mGKkVp3l9cipPt10AqoQnwaPrfI.jpg', 'credit_id': '5e92505cccb15f00136de455', 'department': 'Directing', 'job': 'Director'}, {'adult': False, 'gender': 2, 'id': 1776, 'known_for_department': 'Directing', 'name': 'Francis Ford Coppola', 'original_name': 'Francis Ford Coppola', 'popularity': 8.922, 'profile_path': '/mGKkVp3l9cipPt10AqoQnwaPrfI.jpg', 'credit_id': '5f9c86e3bc8abc003b2fe6b7', 'department': 'Crew', 'job': 'Thanks'}, {'adult': False, 'gender': 2, 'id': 2870, 'known_for_department': 'Production', 'name': 'Gray Frederickson', 'original_name': 'Gray Frederickson', 'popularity': 2.905, 'profile_path': None, 'credit_id': '53884fe1c3a3681ad7004590', 'department': 'Production', 'job': 'Associate Producer'}, {'adult': False, 'gender': 2, 'id': 2871, 'known_for_department': 'Production', 'name': 'Fred Roos', 'original_name': 'Fred Roos', 'popularity': 3.678, 'profile_path': '/qfXLY5E589l0TQnoayWmUrBDsgo.jpg', 'credit_id': '53885041c3a3681ad700459b', 'department': 'Production', 'job': 'Casting'}, {'adult': False, 'gender': 2, 'id': 2872, 'known_for_department': 'Sound', 'name': 'Carmine Coppola', 'original_name': 'Carmine Coppola', 'popularity': 3.961, 'profile_path': '/iURpKXIgdtQoVCBQ8GKGvb0Qw5z.jpg', 'credit_id': '62bd43877304b52384a221cb', 'department': 'Crew', 'job': 'Additional Music'}, {'adult': False, 'gender': 2, 'id': 2875, 'known_for_department': 'Art', 'name': 'Dean Tavoularis', 'original_name': 'Dean Tavoularis', 'popularity': 5.116, 'profile_path': '/hrRBaXUn2k29qd1MvAxuag5L32c.jpg', 'credit_id': '53884b4e0e0a261441005deb', 'department': 'Art', 'job': 'Production Design'}, {'adult': False, 'gender': 2, 'id': 457, 'known_for_department': 'Production', 'name': 'Albert S. Ruddy', 'original_name': 'Albert S. Ruddy', 'popularity': 8.811, 'profile_path': None, 'credit_id': '52fe422bc3a36847f80093cf', 'department': 'Production', 'job': 'Producer'}, {'adult': False, 'gender': 2, 'id': 949, 'known_for_department': 'Production', 'name': 'Louis DiGiaimo', 'original_name': 'Louis DiGiaimo', 'popularity': 0.6, 'profile_path': None, 'credit_id': '53885009c3a3682f780004c6', 'department': 'Production', 'job': 'Casting'}, {'adult': False, 'gender': 2, 'id': 1044, 'known_for_department': 'Camera', 'name': 'Michael Chapman', 'original_name': 'Michael Chapman', 'popularity': 1.238, 'profile_path': '/vFFWHlwwIgWoi2NPoVq3uzikCnM.jpg', 'credit_id': '62bd4492097c490051497166', 'department': 'Camera', 'job': 'Camera Operator'}, {'adult': False, 'gender': 2, 'id': 3083, 'known_for_department': 'Writing', 'name': 'Mario Puzo', 'original_name': 'Mario Puzo', 'popularity': 5.142, 'profile_path': '/lEsT1uCZAZg1nYDQe3Fsj9CalzT.jpg', 'credit_id': '52fe422bc3a36847f80093d5', 'department': 'Writing', 'job': 'Screenplay'}, {'adult': False, 'gender': 2, 'id': 3083, 'known_for_department': 'Writing', 'name': 'Mario Puzo', 'original_name': 'Mario Puzo', 'popularity': 5.142, 'profile_path': '/lEsT1uCZAZg1nYDQe3Fsj9CalzT.jpg', 'credit_id': '538848cec3a3681aea00405a', 'department': 'Writing', 'job': 'Novel'}, {'adult': False, 'gender': 2, 'id': 3097, 'known_for_department': 'Camera', 'name': 'Gordon Willis', 'original_name': 'Gordon Willis', 'popularity': 2.194, 'profile_path': '/6gOmfatlF7UdhaHi2tPsZMb5vmz.jpg', 'credit_id': '538848a0c3a3681ae3004283', 'department': 'Camera', 'job': 'Director of Photography'}, {'adult': False, 'gender': 2, 'id': 3098, 'known_for_department': 'Sound', 'name': 'Nino Rota', 'original_name': 'Nino Rota', 'popularity': 6.266, 'profile_path': '/v42v3uM7jqwoZxDJ8MlEtT6Ol7a.jpg', 'credit_id': '538848b1c3a3681aea004056', 'department': 'Sound', 'job': 'Original Music Composer'}, {'adult': False, 'gender': 2, 'id': 3099, 'known_for_department': 'Editing', 'name': 'William Reynolds', 'original_name': 'William Reynolds', 'popularity': 4.655, 'profile_path': None, 'credit_id': '52fe422bc3a36847f80093ed', 'department': 'Editing', 'job': 'Editor'}, {'adult': False, 'gender': 2, 'id': 3100, 'known_for_department': 'Editing', 'name': 'Peter Zinner', 'original_name': 'Peter Zinner', 'popularity': 2.321, 'profile_path': None, 'credit_id': '52fe422bc3a36847f80093f3', 'department': 'Editing', 'job': 'Editor'}, {'adult': False, 'gender': 0, 'id': 3101, 'known_for_department': 'Production', 'name': 'Andrea Eastman', 'original_name': 'Andrea Eastman', 'popularity': 1.4, 'profile_path': None, 'credit_id': '53885029c3a3681ad7004596', 'department': 'Production', 'job': 'Casting'}, {'adult': False, 'gender': 2, 'id': 3103, 'known_for_department': 'Sound', 'name': 'Charles Grenzbach', 'original_name': 'Charles Grenzbach', 'popularity': 1.4, 'profile_path': None, 'credit_id': '570006ec9251417647000790', 'department': 'Sound', 'job': 'Sound Re-Recording Mixer'}, {'adult': False, 'gender': 2, 'id': 3104, 'known_for_department': 'Sound', 'name': 'Chris Newman', 'original_name': 'Chris Newman', 'popularity': 1.4, 'profile_path': None, 'credit_id': '569d53449251415e67004177', 'department': 'Sound', 'job': 'Sound'}, {'adult': False, 'gender': 2, 'id': 3105, 'known_for_department': 'Sound', 'name': 'Richard Portman', 'original_name': 'Richard Portman', 'popularity': 2.02, 'profile_path': None, 'credit_id': '568c060ac3a3685f89018710', 'department': 'Sound', 'job': 'Sound Re-Recording Mixer'}, {'adult': False, 'gender': 0, 'id': 3106, 'known_for_department': 'Sound', 'name': 'John C. Hammell', 'original_name': 'John C. Hammell', 'popularity': 0.6, 'profile_path': None, 'credit_id': '56cb4864c3a3684e2500045e', 'department': 'Sound', 'job': 'Music Editor'}, {'adult': False, 'gender': 2, 'id': 6099, 'known_for_department': 'Production', 'name': 'Valerio De Paolis', 'original_name': 'Valerio De Paolis', 'popularity': 0.614, 'profile_path': '/rbsYkbJPgQAMuFY71RYrYatdXWT.jpg', 'credit_id': '563e3d18c3a3681b5402d6d3', 'department': 'Production', 'job': 'Production Manager'}, {'adult': False, 'gender': 1, 'id': 6851, 'known_for_department': 'Costume & Make-Up', 'name': 'Anna Hill Johnstone', 'original_name': 'Anna Hill Johnstone', 'popularity': 0.98, 'profile_path': None, 'credit_id': '53884fc3c3a3681add0044ad', 'department': 'Costume & Make-Up', 'job': 'Costume Design'}, {'adult': False, 'gender': 0, 'id': 16194, 'known_for_department': 'Costume & Make-Up', 'name': 'Philip Leto', 'original_name': 'Philip Leto', 'popularity': 1.04, 'profile_path': None, 'credit_id': '56a76fd49251412a04002fa6', 'department': 'Costume & Make-Up', 'job': 'Hairstylist'}, {'adult': False, 'gender': 2, 'id': 10546, 'known_for_department': 'Production', 'name': 'Fred T. Gallo', 'original_name': 'Fred T. Gallo', 'popularity': 0.6, 'profile_path': None, 'credit_id': '5e9250a3875d1a001442c342', 'department': 'Directing', 'job': 'Assistant Director'}, {'adult': False, 'gender': 0, 'id': 11789, 'known_for_department': 'Production', 'name': 'Fred C. Caruso', 'original_name': 'Fred C. Caruso', 'popularity': 2.234, 'profile_path': None, 'credit_id': '57447bba925141110900063d', 'department': 'Production', 'job': 'Unit Production Manager'}, {'adult': False, 'gender': 2, 'id': 12288, 'known_for_department': 'Production', 'name': 'Robert Evans', 'original_name': 'Robert Evans', 'popularity': 1.234, 'profile_path': '/rCiTT2VrBKeHWdnHAyfGtMXs9go.jpg', 'credit_id': '57447b41c3a36807770006ab', 'department': 'Production', 'job': 'Executive Producer'}, {'adult': False, 'gender': 0, 'id': 14059, 'known_for_department': 'Crew', 'name': 'Sass Bedig', 'original_name': 'Sass Bedig', 'popularity': 0.674, 'profile_path': None, 'credit_id': '57448523925141218f000400', 'department': 'Crew', 'job': 'Special Effects'}, {'adult': False, 'gender': 2, 'id': 29389, 'known_for_department': 'Sound', 'name': 'Carlo Savina', 'original_name': 'Carlo Savina', 'popularity': 0.702, 'profile_path': None, 'credit_id': '62bd436412aabc151f2dbaef', 'department': 'Sound', 'job': 'Conductor'}, {'adult': False, 'gender': 2, 'id': 29654, 'known_for_department': 'Costume & Make-Up', 'name': 'Dick Smith', 'original_name': 'Dick Smith', 'popularity': 1.4, 'profile_path': '/kKCenlQ8iQCTLGfX8ZPpJFpxvwS.jpg', 'credit_id': '56a76ff8c3a36819c9002fcb', 'department': 'Costume & Make-Up', 'job': 'Makeup Artist'}, {'adult': False, 'gender': 2, 'id': 30580, 'known_for_department': 'Art', 'name': 'Philip Smith', 'original_name': 'Philip Smith', 'popularity': 0.6, 'profile_path': None, 'credit_id': '53884fb2c3a3681ad700458c', 'department': 'Art', 'job': 'Set Decoration'}, {'adult': False, 'gender': 0, 'id': 81519, 'known_for_department': 'Art', 'name': 'Warren Clymer', 'original_name': 'Warren Clymer', 'popularity': 1.38, 'profile_path': None, 'credit_id': '53884f8dc3a3681add0044a6', 'department': 'Art', 'job': 'Art Direction'}, {'adult': False, 'gender': 0, 'id': 81532, 'known_for_department': 'Costume & Make-Up', 'name': 'George Newman', 'original_name': 'George Newman', 'popularity': 0.6, 'profile_path': None, 'credit_id': '62bd446a7304b523856c2c25', 'department': 'Costume & Make-Up', 'job': 'Wardrobe Supervisor'}, {'adult': False, 'gender': 2, 'id': 51302, 'known_for_department': 'Crew', 'name': 'Joe Bucaro III', 'original_name': 'Joe Bucaro III', 'popularity': 7.525, 'profile_path': '/gvJs1YQZRrSbkiSGAiCAugaXyzl.jpg', 'credit_id': '574486e0c3a368076b000ac6', 'department': 'Crew', 'job': 'Stunts'}, {'adult': False, 'gender': 2, 'id': 96912, 'known_for_department': 'Crew', 'name': 'Joe Lombardi', 'original_name': 'Joe Lombardi', 'popularity': 1.358, 'profile_path': None, 'credit_id': '574485a9925141218f000420', 'department': 'Crew', 'job': 'Special Effects'}, {'adult': False, 'gender': 2, 'id': 718968, 'known_for_department': 'Production', 'name': 'Stephen F. Kesten', 'original_name': 'Stephen F. Kesten', 'popularity': 1.4, 'profile_path': None, 'credit_id': '5e9250b284448e00148f0783', 'department': 'Directing', 'job': 'Assistant Director'}, {'adult': False, 'gender': 2, 'id': 1318092, 'known_for_department': 'Crew', 'name': 'Paul J. Lombardi', 'original_name': 'Paul J. Lombardi', 'popularity': 1.121, 'profile_path': None, 'credit_id': '5744865f92514120a70004b3', 'department': 'Visual Effects', 'job': 'Special Effects Supervisor'}, {'adult': False, 'gender': 2, 'id': 1433439, 'known_for_department': 'Crew', 'name': 'Paul Baxley', 'original_name': 'Paul Baxley', 'popularity': 4.86, 'profile_path': None, 'credit_id': '574486b4c3a3681c760004a9', 'department': 'Crew', 'job': 'Stunt Coordinator'}, {'adult': False, 'gender': 1, 'id': 1511672, 'known_for_department': 'Directing', 'name': 'Nancy Hopton', 'original_name': 'Nancy Hopton', 'popularity': 0.63, 'profile_path': None, 'credit_id': '62bd44c217b5ef04e6b3fc04', 'department': 'Directing', 'job': 'Script Supervisor'}, {'adult': False, 'gender': 0, 'id': 1518601, 'known_for_department': 'Costume & Make-Up', 'name': 'Phil Rhodes', 'original_name': 'Phil Rhodes', 'popularity': 0.6, 'profile_path': None, 'credit_id': '56a76fc79251412a04002fa3', 'department': 'Costume & Make-Up', 'job': 'Makeup Artist'}, {'adult': False, 'gender': 2, 'id': 1546904, 'known_for_department': 'Camera', 'name': 'Robert Ward', 'original_name': 'Robert Ward', 'popularity': 0.6, 'profile_path': None, 'credit_id': '566871e5c3a36836ac0038f7', 'department': 'Camera', 'job': 'Grip'}, {'adult': False, 'gender': 0, 'id': 1614958, 'known_for_department': 'Crew', 'name': 'Steven Burnett', 'original_name': 'Steven Burnett', 'popularity': 1.065, 'profile_path': None, 'credit_id': '5744870d92514133d400001b', 'department': 'Crew', 'job': 'Stunts'}, {'adult': False, 'gender': 0, 'id': 1625346, 'known_for_department': 'Production', 'name': 'Ned Kopp', 'original_name': 'Ned Kopp', 'popularity': 0.6, 'profile_path': None, 'credit_id': '57447c09925141110f000695', 'department': 'Production', 'job': 'Production Manager'}, {'adult': False, 'gender': 2, 'id': 1625347, 'known_for_department': 'Directing', 'name': 'Tony Brandt', 'original_name': 'Tony Brandt', 'popularity': 0.6, 'profile_path': None, 'credit_id': '5e92510accb15f00156de8d4', 'department': 'Directing', 'job': 'Assistant Director'}, {'adult': False, 'gender': 0, 'id': 1789636, 'known_for_department': 'Sound', 'name': 'Carl Fortina', 'original_name': 'Carl Fortina', 'popularity': 0.98, 'profile_path': None, 'credit_id': '58e3cf17c3a3684aa40124b5', 'department': 'Sound', 'job': 'Musician'}, {'adult': False, 'gender': 0, 'id': 3357584, 'known_for_department': 'Production', 'name': 'Michael Briggs', 'original_name': 'Michael Briggs', 'popularity': 0.6, 'profile_path': None, 'credit_id': '62bd45a47ef3812768ed8113', 'department': 'Production', 'job': 'Location Coordinator'}, {'adult': False, 'gender': 0, 'id': 3606474, 'known_for_department': 'Production', 'name': 'Tony Bowers', 'original_name': 'Tony Bowers', 'popularity': 0.6, 'profile_path': None, 'credit_id': '62bd45e59a9f9a008bf772b9', 'department': 'Production', 'job': 'Location Coordinator'}]\""
      ]
     },
     "execution_count": 57,
     "metadata": {},
     "output_type": "execute_result"
    }
   ],
   "source": [
    "movies['Crew'][0]"
   ]
  },
  {
   "cell_type": "code",
   "execution_count": 58,
   "id": "9aec225d-ad88-4713-b0e2-841b31619010",
   "metadata": {},
   "outputs": [],
   "source": [
    "import ast\n",
    "def fetch_dir(obj):\n",
    "    \n",
    "    l=[]\n",
    "    for i in ast.literal_eval(obj): \n",
    "        if i['job']=='Director':\n",
    "            l.append(i['name'])\n",
    "            break\n",
    "    return l"
   ]
  },
  {
   "cell_type": "code",
   "execution_count": 59,
   "id": "7f03dc52-3f3c-4546-bbed-a615e3bedb4d",
   "metadata": {},
   "outputs": [],
   "source": [
    "movies['Crew']=movies['Crew'].apply(fetch_dir)"
   ]
  },
  {
   "cell_type": "code",
   "execution_count": 60,
   "id": "4df29ad4-7b24-40d0-ba2b-8834c411630d",
   "metadata": {},
   "outputs": [
    {
     "data": {
      "text/plain": [
       "'Spanning the years 1945 to 1955, a chronicle of the fictional Italian-American Corleone crime family. When organized crime family patriarch, Vito Corleone barely survives an attempt on his life, his youngest son, Michael steps in to take care of the would-be killers, launching a campaign of bloody revenge.'"
      ]
     },
     "execution_count": 60,
     "metadata": {},
     "output_type": "execute_result"
    }
   ],
   "source": [
    "movies['overview'][0]"
   ]
  },
  {
   "cell_type": "code",
   "execution_count": 67,
   "id": "dde58062-ebbf-44b6-a62e-5b62c1e9e45e",
   "metadata": {},
   "outputs": [],
   "source": [
    "#movies['overview'].apply(lambda x:x.split())\n"
   ]
  },
  {
   "cell_type": "code",
   "execution_count": 68,
   "id": "bd465774-0bc8-4fae-b52e-1aa3c0682527",
   "metadata": {},
   "outputs": [
    {
     "data": {
      "text/html": [
       "<div>\n",
       "<style scoped>\n",
       "    .dataframe tbody tr th:only-of-type {\n",
       "        vertical-align: middle;\n",
       "    }\n",
       "\n",
       "    .dataframe tbody tr th {\n",
       "        vertical-align: top;\n",
       "    }\n",
       "\n",
       "    .dataframe thead th {\n",
       "        text-align: right;\n",
       "    }\n",
       "</style>\n",
       "<table border=\"1\" class=\"dataframe\">\n",
       "  <thead>\n",
       "    <tr style=\"text-align: right;\">\n",
       "      <th></th>\n",
       "      <th>Movie_id</th>\n",
       "      <th>title_x</th>\n",
       "      <th>Genres</th>\n",
       "      <th>Keywords</th>\n",
       "      <th>Cast</th>\n",
       "      <th>Crew</th>\n",
       "      <th>overview</th>\n",
       "    </tr>\n",
       "  </thead>\n",
       "  <tbody>\n",
       "    <tr>\n",
       "      <th>0</th>\n",
       "      <td>238</td>\n",
       "      <td>The Godfather</td>\n",
       "      <td>[Drama, Crime]</td>\n",
       "      <td>[italy, loss of loved one, love at first sight...</td>\n",
       "      <td>[Marlon Brando, Al Pacino, James Caan]</td>\n",
       "      <td>[Francis Ford Coppola]</td>\n",
       "      <td>Spanning the years 1945 to 1955, a chronicle o...</td>\n",
       "    </tr>\n",
       "    <tr>\n",
       "      <th>1</th>\n",
       "      <td>278</td>\n",
       "      <td>The Shawshank Redemption</td>\n",
       "      <td>[Drama, Crime]</td>\n",
       "      <td>[prison, corruption, police brutality, based o...</td>\n",
       "      <td>[Tim Robbins, Morgan Freeman, Bob Gunton]</td>\n",
       "      <td>[Frank Darabont]</td>\n",
       "      <td>Framed in the 1940s for the double murder of h...</td>\n",
       "    </tr>\n",
       "    <tr>\n",
       "      <th>2</th>\n",
       "      <td>240</td>\n",
       "      <td>The Godfather Part II</td>\n",
       "      <td>[Drama, Crime]</td>\n",
       "      <td>[italy, italian american, cuba, symbolism, gan...</td>\n",
       "      <td>[Al Pacino, Robert Duvall, Diane Keaton]</td>\n",
       "      <td>[Francis Ford Coppola]</td>\n",
       "      <td>In the continuing saga of the Corleone crime f...</td>\n",
       "    </tr>\n",
       "    <tr>\n",
       "      <th>3</th>\n",
       "      <td>19404</td>\n",
       "      <td>Dilwale Dulhania Le Jayenge</td>\n",
       "      <td>[Comedy, Drama, Romance]</td>\n",
       "      <td>[]</td>\n",
       "      <td>[Shah Rukh Khan, Kajol, Amrish Puri]</td>\n",
       "      <td>[Aditya Chopra]</td>\n",
       "      <td>Raj is a rich, carefree, happy-go-lucky second...</td>\n",
       "    </tr>\n",
       "    <tr>\n",
       "      <th>4</th>\n",
       "      <td>424</td>\n",
       "      <td>Schindler's List</td>\n",
       "      <td>[Drama, History, War]</td>\n",
       "      <td>[based on novel or book, factory, concentratio...</td>\n",
       "      <td>[Liam Neeson, Ben Kingsley, Ralph Fiennes]</td>\n",
       "      <td>[Steven Spielberg]</td>\n",
       "      <td>The true story of how businessman Oskar Schind...</td>\n",
       "    </tr>\n",
       "  </tbody>\n",
       "</table>\n",
       "</div>"
      ],
      "text/plain": [
       "   Movie_id                      title_x                    Genres  \\\n",
       "0       238                The Godfather            [Drama, Crime]   \n",
       "1       278     The Shawshank Redemption            [Drama, Crime]   \n",
       "2       240        The Godfather Part II            [Drama, Crime]   \n",
       "3     19404  Dilwale Dulhania Le Jayenge  [Comedy, Drama, Romance]   \n",
       "4       424             Schindler's List     [Drama, History, War]   \n",
       "\n",
       "                                            Keywords  \\\n",
       "0  [italy, loss of loved one, love at first sight...   \n",
       "1  [prison, corruption, police brutality, based o...   \n",
       "2  [italy, italian american, cuba, symbolism, gan...   \n",
       "3                                                 []   \n",
       "4  [based on novel or book, factory, concentratio...   \n",
       "\n",
       "                                         Cast                    Crew  \\\n",
       "0      [Marlon Brando, Al Pacino, James Caan]  [Francis Ford Coppola]   \n",
       "1   [Tim Robbins, Morgan Freeman, Bob Gunton]        [Frank Darabont]   \n",
       "2    [Al Pacino, Robert Duvall, Diane Keaton]  [Francis Ford Coppola]   \n",
       "3        [Shah Rukh Khan, Kajol, Amrish Puri]         [Aditya Chopra]   \n",
       "4  [Liam Neeson, Ben Kingsley, Ralph Fiennes]      [Steven Spielberg]   \n",
       "\n",
       "                                            overview  \n",
       "0  Spanning the years 1945 to 1955, a chronicle o...  \n",
       "1  Framed in the 1940s for the double murder of h...  \n",
       "2  In the continuing saga of the Corleone crime f...  \n",
       "3  Raj is a rich, carefree, happy-go-lucky second...  \n",
       "4  The true story of how businessman Oskar Schind...  "
      ]
     },
     "execution_count": 68,
     "metadata": {},
     "output_type": "execute_result"
    }
   ],
   "source": [
    "movies.head() "
   ]
  },
  {
   "cell_type": "code",
   "execution_count": 80,
   "id": "2c08d06a-9d06-4014-bf0f-5be561e377af",
   "metadata": {},
   "outputs": [
    {
     "data": {
      "text/html": [
       "<div>\n",
       "<style scoped>\n",
       "    .dataframe tbody tr th:only-of-type {\n",
       "        vertical-align: middle;\n",
       "    }\n",
       "\n",
       "    .dataframe tbody tr th {\n",
       "        vertical-align: top;\n",
       "    }\n",
       "\n",
       "    .dataframe thead th {\n",
       "        text-align: right;\n",
       "    }\n",
       "</style>\n",
       "<table border=\"1\" class=\"dataframe\">\n",
       "  <thead>\n",
       "    <tr style=\"text-align: right;\">\n",
       "      <th></th>\n",
       "      <th>Movie_id</th>\n",
       "      <th>title_x</th>\n",
       "      <th>Genres</th>\n",
       "      <th>Keywords</th>\n",
       "      <th>Cast</th>\n",
       "      <th>Crew</th>\n",
       "      <th>overview</th>\n",
       "      <th>crew</th>\n",
       "      <th>tags</th>\n",
       "    </tr>\n",
       "  </thead>\n",
       "  <tbody>\n",
       "    <tr>\n",
       "      <th>0</th>\n",
       "      <td>238</td>\n",
       "      <td>The Godfather</td>\n",
       "      <td>[Drama, Crime]</td>\n",
       "      <td>[italy, lossoflovedone, loveatfirstsight, base...</td>\n",
       "      <td>[MarlonBrando, AlPacino, JamesCaan]</td>\n",
       "      <td>[Francis Ford Coppola]</td>\n",
       "      <td>Spanning the years 1945 to 1955, a chronicle o...</td>\n",
       "      <td>[FrancisFordCoppola]</td>\n",
       "      <td>[Drama, Crime, MarlonBrando, AlPacino, JamesCa...</td>\n",
       "    </tr>\n",
       "    <tr>\n",
       "      <th>1</th>\n",
       "      <td>278</td>\n",
       "      <td>The Shawshank Redemption</td>\n",
       "      <td>[Drama, Crime]</td>\n",
       "      <td>[prison, corruption, policebrutality, basedonn...</td>\n",
       "      <td>[TimRobbins, MorganFreeman, BobGunton]</td>\n",
       "      <td>[Frank Darabont]</td>\n",
       "      <td>Framed in the 1940s for the double murder of h...</td>\n",
       "      <td>[FrankDarabont]</td>\n",
       "      <td>[Drama, Crime, TimRobbins, MorganFreeman, BobG...</td>\n",
       "    </tr>\n",
       "    <tr>\n",
       "      <th>2</th>\n",
       "      <td>240</td>\n",
       "      <td>The Godfather Part II</td>\n",
       "      <td>[Drama, Crime]</td>\n",
       "      <td>[italy, italianamerican, cuba, symbolism, gang...</td>\n",
       "      <td>[AlPacino, RobertDuvall, DianeKeaton]</td>\n",
       "      <td>[Francis Ford Coppola]</td>\n",
       "      <td>In the continuing saga of the Corleone crime f...</td>\n",
       "      <td>[FrancisFordCoppola]</td>\n",
       "      <td>[Drama, Crime, AlPacino, RobertDuvall, DianeKe...</td>\n",
       "    </tr>\n",
       "    <tr>\n",
       "      <th>3</th>\n",
       "      <td>19404</td>\n",
       "      <td>Dilwale Dulhania Le Jayenge</td>\n",
       "      <td>[Comedy, Drama, Romance]</td>\n",
       "      <td>[]</td>\n",
       "      <td>[ShahRukhKhan, Kajol, AmrishPuri]</td>\n",
       "      <td>[Aditya Chopra]</td>\n",
       "      <td>Raj is a rich, carefree, happy-go-lucky second...</td>\n",
       "      <td>[AdityaChopra]</td>\n",
       "      <td>[Comedy, Drama, Romance, ShahRukhKhan, Kajol, ...</td>\n",
       "    </tr>\n",
       "    <tr>\n",
       "      <th>4</th>\n",
       "      <td>424</td>\n",
       "      <td>Schindler's List</td>\n",
       "      <td>[Drama, History, War]</td>\n",
       "      <td>[basedonnovelorbook, factory, concentrationcam...</td>\n",
       "      <td>[LiamNeeson, BenKingsley, RalphFiennes]</td>\n",
       "      <td>[Steven Spielberg]</td>\n",
       "      <td>The true story of how businessman Oskar Schind...</td>\n",
       "      <td>[StevenSpielberg]</td>\n",
       "      <td>[Drama, History, War, LiamNeeson, BenKingsley,...</td>\n",
       "    </tr>\n",
       "  </tbody>\n",
       "</table>\n",
       "</div>"
      ],
      "text/plain": [
       "   Movie_id                      title_x                    Genres  \\\n",
       "0       238                The Godfather            [Drama, Crime]   \n",
       "1       278     The Shawshank Redemption            [Drama, Crime]   \n",
       "2       240        The Godfather Part II            [Drama, Crime]   \n",
       "3     19404  Dilwale Dulhania Le Jayenge  [Comedy, Drama, Romance]   \n",
       "4       424             Schindler's List     [Drama, History, War]   \n",
       "\n",
       "                                            Keywords  \\\n",
       "0  [italy, lossoflovedone, loveatfirstsight, base...   \n",
       "1  [prison, corruption, policebrutality, basedonn...   \n",
       "2  [italy, italianamerican, cuba, symbolism, gang...   \n",
       "3                                                 []   \n",
       "4  [basedonnovelorbook, factory, concentrationcam...   \n",
       "\n",
       "                                      Cast                    Crew  \\\n",
       "0      [MarlonBrando, AlPacino, JamesCaan]  [Francis Ford Coppola]   \n",
       "1   [TimRobbins, MorganFreeman, BobGunton]        [Frank Darabont]   \n",
       "2    [AlPacino, RobertDuvall, DianeKeaton]  [Francis Ford Coppola]   \n",
       "3        [ShahRukhKhan, Kajol, AmrishPuri]         [Aditya Chopra]   \n",
       "4  [LiamNeeson, BenKingsley, RalphFiennes]      [Steven Spielberg]   \n",
       "\n",
       "                                            overview                  crew  \\\n",
       "0  Spanning the years 1945 to 1955, a chronicle o...  [FrancisFordCoppola]   \n",
       "1  Framed in the 1940s for the double murder of h...       [FrankDarabont]   \n",
       "2  In the continuing saga of the Corleone crime f...  [FrancisFordCoppola]   \n",
       "3  Raj is a rich, carefree, happy-go-lucky second...        [AdityaChopra]   \n",
       "4  The true story of how businessman Oskar Schind...     [StevenSpielberg]   \n",
       "\n",
       "                                                tags  \n",
       "0  [Drama, Crime, MarlonBrando, AlPacino, JamesCa...  \n",
       "1  [Drama, Crime, TimRobbins, MorganFreeman, BobG...  \n",
       "2  [Drama, Crime, AlPacino, RobertDuvall, DianeKe...  \n",
       "3  [Comedy, Drama, Romance, ShahRukhKhan, Kajol, ...  \n",
       "4  [Drama, History, War, LiamNeeson, BenKingsley,...  "
      ]
     },
     "execution_count": 80,
     "metadata": {},
     "output_type": "execute_result"
    }
   ],
   "source": [
    "movies['Genres']=movies['Genres'].apply(lambda x:[i.replace(\" \",\"\")for i in x])\n",
    "movies['Cast']=movies['Cast'].apply(lambda x:[i.replace(\" \",\"\")for i in x])\n",
    "movies['crew']=movies['Crew'].apply(lambda x:[i.replace(\" \",\"\")for i in x])\n",
    "movies['Keywords']=movies['Keywords'].apply(lambda x:[i.replace(\" \",\"\")for i in x])\n",
    "movies.head() #in above lines we have removed the spaces btwn the words"
   ]
  },
  {
   "cell_type": "code",
   "execution_count": 71,
   "id": "fd1fae87-8bfe-4f9b-b4fc-140f9f85a67c",
   "metadata": {},
   "outputs": [],
   "source": [
    "movies['tags']=movies['Genres'] + movies['Cast'] + movies['crew'] + movies['Keywords']  # + movies['overview']"
   ]
  },
  {
   "cell_type": "code",
   "execution_count": 77,
   "id": "9c4906a2-5c91-4800-80c4-9b90edd07490",
   "metadata": {},
   "outputs": [
    {
     "data": {
      "text/html": [
       "<div>\n",
       "<style scoped>\n",
       "    .dataframe tbody tr th:only-of-type {\n",
       "        vertical-align: middle;\n",
       "    }\n",
       "\n",
       "    .dataframe tbody tr th {\n",
       "        vertical-align: top;\n",
       "    }\n",
       "\n",
       "    .dataframe thead th {\n",
       "        text-align: right;\n",
       "    }\n",
       "</style>\n",
       "<table border=\"1\" class=\"dataframe\">\n",
       "  <thead>\n",
       "    <tr style=\"text-align: right;\">\n",
       "      <th></th>\n",
       "      <th>Movie_id</th>\n",
       "      <th>title_x</th>\n",
       "      <th>tags</th>\n",
       "    </tr>\n",
       "  </thead>\n",
       "  <tbody>\n",
       "    <tr>\n",
       "      <th>0</th>\n",
       "      <td>238</td>\n",
       "      <td>The Godfather</td>\n",
       "      <td>[Drama, Crime, MarlonBrando, AlPacino, JamesCa...</td>\n",
       "    </tr>\n",
       "  </tbody>\n",
       "</table>\n",
       "</div>"
      ],
      "text/plain": [
       "   Movie_id        title_x                                               tags\n",
       "0       238  The Godfather  [Drama, Crime, MarlonBrando, AlPacino, JamesCa..."
      ]
     },
     "execution_count": 77,
     "metadata": {},
     "output_type": "execute_result"
    }
   ],
   "source": [
    "new_df=movies[['Movie_id','title_x','tags']]\n",
    "new_df.head(1)"
   ]
  },
  {
   "cell_type": "code",
   "execution_count": 78,
   "id": "e0e6c83c-64f3-465e-8727-064f4f87062e",
   "metadata": {},
   "outputs": [
    {
     "name": "stderr",
     "output_type": "stream",
     "text": [
      "C:\\Windows\\Temp\\ipykernel_8136\\667256208.py:1: SettingWithCopyWarning: \n",
      "A value is trying to be set on a copy of a slice from a DataFrame.\n",
      "Try using .loc[row_indexer,col_indexer] = value instead\n",
      "\n",
      "See the caveats in the documentation: https://pandas.pydata.org/pandas-docs/stable/user_guide/indexing.html#returning-a-view-versus-a-copy\n",
      "  new_df['tags'] = new_df['tags'].apply(lambda x: \" \" .join(x))\n"
     ]
    }
   ],
   "source": [
    "new_df['tags'] = new_df['tags'].apply(lambda x: \" \" .join(x))"
   ]
  },
  {
   "cell_type": "code",
   "execution_count": 79,
   "id": "71ca46d3-1b2d-459b-a8e2-01adbda0bf68",
   "metadata": {},
   "outputs": [
    {
     "name": "stderr",
     "output_type": "stream",
     "text": [
      "C:\\Windows\\Temp\\ipykernel_8136\\3612689905.py:1: SettingWithCopyWarning: \n",
      "A value is trying to be set on a copy of a slice from a DataFrame.\n",
      "Try using .loc[row_indexer,col_indexer] = value instead\n",
      "\n",
      "See the caveats in the documentation: https://pandas.pydata.org/pandas-docs/stable/user_guide/indexing.html#returning-a-view-versus-a-copy\n",
      "  new_df['tags']=new_df['tags'].apply(lambda x:x.lower())\n"
     ]
    }
   ],
   "source": [
    "new_df['tags']=new_df['tags'].apply(lambda x:x.lower()) "
   ]
  },
  {
   "cell_type": "code",
   "execution_count": 81,
   "id": "ca98cb34-2775-42ea-9f5e-be0cca26fdc3",
   "metadata": {},
   "outputs": [
    {
     "data": {
      "text/html": [
       "<div>\n",
       "<style scoped>\n",
       "    .dataframe tbody tr th:only-of-type {\n",
       "        vertical-align: middle;\n",
       "    }\n",
       "\n",
       "    .dataframe tbody tr th {\n",
       "        vertical-align: top;\n",
       "    }\n",
       "\n",
       "    .dataframe thead th {\n",
       "        text-align: right;\n",
       "    }\n",
       "</style>\n",
       "<table border=\"1\" class=\"dataframe\">\n",
       "  <thead>\n",
       "    <tr style=\"text-align: right;\">\n",
       "      <th></th>\n",
       "      <th>Movie_id</th>\n",
       "      <th>title_x</th>\n",
       "      <th>tags</th>\n",
       "    </tr>\n",
       "  </thead>\n",
       "  <tbody>\n",
       "    <tr>\n",
       "      <th>0</th>\n",
       "      <td>238</td>\n",
       "      <td>The Godfather</td>\n",
       "      <td>drama crime marlonbrando alpacino jamescaan fr...</td>\n",
       "    </tr>\n",
       "    <tr>\n",
       "      <th>1</th>\n",
       "      <td>278</td>\n",
       "      <td>The Shawshank Redemption</td>\n",
       "      <td>drama crime timrobbins morganfreeman bobgunton...</td>\n",
       "    </tr>\n",
       "    <tr>\n",
       "      <th>2</th>\n",
       "      <td>240</td>\n",
       "      <td>The Godfather Part II</td>\n",
       "      <td>drama crime alpacino robertduvall dianekeaton ...</td>\n",
       "    </tr>\n",
       "    <tr>\n",
       "      <th>3</th>\n",
       "      <td>19404</td>\n",
       "      <td>Dilwale Dulhania Le Jayenge</td>\n",
       "      <td>comedy drama romance shahrukhkhan kajol amrish...</td>\n",
       "    </tr>\n",
       "    <tr>\n",
       "      <th>4</th>\n",
       "      <td>424</td>\n",
       "      <td>Schindler's List</td>\n",
       "      <td>drama history war liamneeson benkingsley ralph...</td>\n",
       "    </tr>\n",
       "  </tbody>\n",
       "</table>\n",
       "</div>"
      ],
      "text/plain": [
       "   Movie_id                      title_x  \\\n",
       "0       238                The Godfather   \n",
       "1       278     The Shawshank Redemption   \n",
       "2       240        The Godfather Part II   \n",
       "3     19404  Dilwale Dulhania Le Jayenge   \n",
       "4       424             Schindler's List   \n",
       "\n",
       "                                                tags  \n",
       "0  drama crime marlonbrando alpacino jamescaan fr...  \n",
       "1  drama crime timrobbins morganfreeman bobgunton...  \n",
       "2  drama crime alpacino robertduvall dianekeaton ...  \n",
       "3  comedy drama romance shahrukhkhan kajol amrish...  \n",
       "4  drama history war liamneeson benkingsley ralph...  "
      ]
     },
     "execution_count": 81,
     "metadata": {},
     "output_type": "execute_result"
    }
   ],
   "source": [
    "new_df.head()"
   ]
  },
  {
   "cell_type": "code",
   "execution_count": null,
   "id": "68ad3bde-0329-4e17-a9cb-4418356046b3",
   "metadata": {},
   "outputs": [],
   "source": [
    "#textvectrozation bag of words"
   ]
  },
  {
   "cell_type": "code",
   "execution_count": 2,
   "id": "202470fb-1105-4745-a862-9c3a9f68d291",
   "metadata": {},
   "outputs": [],
   "source": [
    "import sklearn.feature_extraction.text import CountVectorizer\n",
    "cv=CountVectorizer(max_features=5000,stop_words='english)\n",
    "                   "
   ]
  },
  {
   "cell_type": "code",
   "execution_count": null,
   "id": "4d29aa29-2c77-4b1d-8cfb-2518c4976e40",
   "metadata": {},
   "outputs": [],
   "source": [
    "vector=cv.fit_transform(new['tag']).toarray()\n"
   ]
  },
  {
   "cell_type": "code",
   "execution_count": null,
   "id": "b1ba565e-65cb-4d29-82ea-cb30dc871317",
   "metadata": {},
   "outputs": [],
   "source": [
    "vector.shape\n"
   ]
  },
  {
   "cell_type": "code",
   "execution_count": null,
   "id": "59e275d5-e59a-48ce-8e11-d2423ec32f47",
   "metadata": {},
   "outputs": [],
   "source": [
    "from sklearn.metrics.pairwise import cosine_similarity"
   ]
  },
  {
   "cell_type": "code",
   "execution_count": null,
   "id": "2926835f-34a8-4f26-a842-5d2321190939",
   "metadata": {},
   "outputs": [],
   "source": [
    "similarity = cosine_similarity(vector)"
   ]
  },
  {
   "cell_type": "code",
   "execution_count": null,
   "id": "f8cfc676-3898-4980-ad8a-78e22864860c",
   "metadata": {},
   "outputs": [],
   "source": [
    "similarity"
   ]
  },
  {
   "cell_type": "code",
   "execution_count": null,
   "id": "07f19a71-1e0b-477a-bb56-b147e7022a9e",
   "metadata": {},
   "outputs": [],
   "source": [
    "new[new['title'] == 'The Lego Movie'].index[0]"
   ]
  },
  {
   "cell_type": "code",
   "execution_count": null,
   "id": "aed7d6ac-1a4b-468f-8f82-43600478c882",
   "metadata": {},
   "outputs": [],
   "source": [
    "def recommend(movie):\n",
    "    index = new[new['title'] == movie].index[0]\n",
    "    distances = sorted(list(enumerate(similarity[index])),reverse=True,key = lambda x: x[1])\n",
    "    for i in distances[1:6]:\n",
    "        print(new.iloc[i[0]].title)\n",
    "        "
   ]
  },
  {
   "cell_type": "code",
   "execution_count": null,
   "id": "fe7f7355-9044-49b6-bd6e-fca948ce53cc",
   "metadata": {},
   "outputs": [],
   "source": [
    "recommend('Gandhi')"
   ]
  },
  {
   "cell_type": "code",
   "execution_count": null,
   "id": "d39460d4-587a-441f-864e-569882e4c789",
   "metadata": {},
   "outputs": [],
   "source": [
    "import pickle"
   ]
  },
  {
   "cell_type": "code",
   "execution_count": null,
   "id": "3344a18f-85af-45ee-8891-f08dcfc2df58",
   "metadata": {},
   "outputs": [],
   "source": [
    "pickle.dump(new,open('movie_list.pkl','wb'))\n",
    "pickle.dump(similarity,open('similarity.pkl','wb'))"
   ]
  }
 ],
 "metadata": {
  "kernelspec": {
   "display_name": "Python 3 (ipykernel)",
   "language": "python",
   "name": "python3"
  },
  "language_info": {
   "codemirror_mode": {
    "name": "ipython",
    "version": 3
   },
   "file_extension": ".py",
   "mimetype": "text/x-python",
   "name": "python",
   "nbconvert_exporter": "python",
   "pygments_lexer": "ipython3",
   "version": "3.12.1"
  }
 },
 "nbformat": 4,
 "nbformat_minor": 5
}
